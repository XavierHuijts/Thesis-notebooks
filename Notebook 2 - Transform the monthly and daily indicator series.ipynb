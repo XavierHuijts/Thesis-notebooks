{
 "cells": [
  {
   "cell_type": "markdown",
   "id": "a63c0dcc-79a8-41a6-a93f-a9e5beb78392",
   "metadata": {},
   "source": [
    "# Import Packages"
   ]
  },
  {
   "cell_type": "code",
   "execution_count": null,
   "id": "7ee4ef45-eda7-42a2-a59e-77c3d185adff",
   "metadata": {},
   "outputs": [],
   "source": [
    "import numpy as np\n",
    "import pandas as pd"
   ]
  },
  {
   "cell_type": "markdown",
   "id": "6abaeade-96f1-4716-8fa7-41c64e1af1fe",
   "metadata": {},
   "source": [
    "# Method 1 (X)"
   ]
  },
  {
   "cell_type": "code",
   "execution_count": null,
   "id": "959af31f-5c77-48e3-b20d-11fdcdc610b5",
   "metadata": {},
   "outputs": [],
   "source": [
    "def method_1(file_name, df):\n",
    "    df[\"method_1\"] = df['Value']\n",
    "    return df"
   ]
  },
  {
   "cell_type": "markdown",
   "id": "15b9a516-cef8-43f4-b534-c0b6af5615d2",
   "metadata": {},
   "source": [
    "# Method 2 (simple difference)"
   ]
  },
  {
   "cell_type": "code",
   "execution_count": null,
   "id": "7bb64490-17f5-40db-9bb2-3c9b44cc27e2",
   "metadata": {},
   "outputs": [],
   "source": [
    "def method_2(file_name, df):\n",
    "    # Initialize with 0 for the first row\n",
    "    differences = [0]  \n",
    "    # Iterate through the values in the 'Value' column and calculate the differences\n",
    "    for i in range(1, len(df)):\n",
    "        diff = df['Value'][i] - df['Value'][i - 1]\n",
    "        differences.append(diff)\n",
    "        \n",
    "    df[\"method_2\"] = differences\n",
    "    return df"
   ]
  },
  {
   "cell_type": "markdown",
   "id": "2885e17e-8cad-42ff-9f6a-2ca6e876468d",
   "metadata": {},
   "source": [
    "# Method 3 (squared difference)"
   ]
  },
  {
   "cell_type": "code",
   "execution_count": null,
   "id": "ec0c3a88-8ddf-4d77-a5fd-587c269ec694",
   "metadata": {},
   "outputs": [],
   "source": [
    "def method_3(file_name, df):\n",
    "\n",
    "    squared_differences = [0]  # Initialize with 0 for the first row\n",
    "\n",
    "    # Iterate through the values in the 'Value' column and calculate the differences\n",
    "    for i in range(1, len(df)):\n",
    "        squared_diff = (df['Value'][i])**2 - (df['Value'][i - 1])**2\n",
    "        squared_differences.append(squared_diff)\n",
    "\n",
    "    df['method_3'] = squared_differences\n",
    "    return df"
   ]
  },
  {
   "cell_type": "markdown",
   "id": "55b34a0f-9701-46f6-95f5-a0eff973940a",
   "metadata": {},
   "source": [
    "# Method 4 (log-normal change)"
   ]
  },
  {
   "cell_type": "code",
   "execution_count": null,
   "id": "a2447c34-b627-4350-9b78-7180dbb0f82b",
   "metadata": {},
   "outputs": [],
   "source": [
    "def method_4(file_name, df):\n",
    "\n",
    "    log_divisions = [0]  # Initialize with 0 for the first row\n",
    "\n",
    "    # Iterate through the values in the 'Value' column and calculate the differences\n",
    "    for i in range(1, len(df)):\n",
    "        log_div = np.log(df['Value'][i] / df['Value'][i - 1])\n",
    "        log_divisions.append(log_div)\n",
    "\n",
    "    df['method_4'] = log_divisions\n",
    "    return df"
   ]
  },
  {
   "cell_type": "markdown",
   "id": "fc4b9bff-5888-4b05-a1f5-dc414ecd1a9a",
   "metadata": {},
   "source": [
    "# Apply methods on raw data"
   ]
  },
  {
   "cell_type": "markdown",
   "id": "021e215d-4848-4344-bc41-68269cc274fb",
   "metadata": {},
   "source": [
    "Daily time-series"
   ]
  },
  {
   "cell_type": "code",
   "execution_count": null,
   "id": "342e15db-1a79-4c6a-b673-2124b14f9cb3",
   "metadata": {},
   "outputs": [],
   "source": [
    "# Store function names and number of methods\n",
    "methods = [\"method_1\", \"method_2\", \"method_3\", \"method_4\"]\n",
    "n_methods = len(methods)\n",
    "\n",
    "# Store file names which contain the time-series\n",
    "files_daily = [\"Bond Index.csv\", \"Stock Index.csv\", \"Risk Free Rate.csv\", \"NIKKEI225.csv\", \"Crude Oil.csv\", \"USD to Pound.csv\", \"DGS2.csv\", \"DGS5.csv\", \"DGS10.csv\", \"T10Y3M.csv\", \"TEDRATE.csv\"]\n",
    "n_files = len(files_daily)\n",
    "\n",
    "# Loop over each file, and apply each method to it\n",
    "for file_name in files_daily:\n",
    "    df = pd.read_csv(\"Daily Raw Data/\" + file_name)\n",
    "    df.replace(\"#N/A\", np.nan, inplace=True)\n",
    "    clean_df = df.dropna().reset_index(drop=True)\n",
    "    for method in methods:\n",
    "        function = globals()[method]\n",
    "        function(file_name, clean_df)\n",
    "    # Store series\n",
    "    output_file_name = \"Generated series/Daily/\" + file_name\n",
    "    clean_df.to_csv(output_file_name, index=False)"
   ]
  },
  {
   "cell_type": "markdown",
   "id": "6a20aedd-2c33-4737-92f7-0393872cad6b",
   "metadata": {},
   "source": [
    "Monthly time-series"
   ]
  },
  {
   "cell_type": "code",
   "execution_count": null,
   "id": "3c4bd919-787f-4fcf-9890-7e1040718ed9",
   "metadata": {},
   "outputs": [],
   "source": [
    "# Store function names and number of methods\n",
    "methods = [\"method_1\", \"method_2\", \"method_3\", \"method_4\"]\n",
    "n_methods = len(methods)\n",
    "\n",
    "# Store file names which contain the time-series\n",
    "files_monthly = [\"CPIAUCNS yoy.csv\", \"CSUSHPISA yoy.csv\", \"IQ yoy.csv\", \"IR yoy.csv\", \"MICH.csv\", \"PPIACO yoy.csv\",  \"INDPRO.csv\", \"PSAVERT.csv\"]\n",
    "n_files = len(files_monthly)\n",
    "\n",
    "# Loop over each file, and apply each method to it\n",
    "for file_name in files_monthly:\n",
    "    df = pd.read_csv(\"Monthly raw data/\" + file_name)\n",
    "    df.replace(\"#N/A\", np.nan, inplace=True)\n",
    "    clean_df = df.dropna().reset_index(drop=True)\n",
    "    for method in methods:\n",
    "        function = globals()[method]\n",
    "        function(file_name, clean_df)\n",
    "    # Store series\n",
    "    output_file_name = \"Generated series/Monthly/\" + file_name\n",
    "    clean_df.to_csv(output_file_name, index=False)"
   ]
  }
 ],
 "metadata": {
  "kernelspec": {
   "display_name": "Python 3 (ipykernel)",
   "language": "python",
   "name": "python3"
  },
  "language_info": {
   "codemirror_mode": {
    "name": "ipython",
    "version": 3
   },
   "file_extension": ".py",
   "mimetype": "text/x-python",
   "name": "python",
   "nbconvert_exporter": "python",
   "pygments_lexer": "ipython3",
   "version": "3.9.7"
  }
 },
 "nbformat": 4,
 "nbformat_minor": 5
}
