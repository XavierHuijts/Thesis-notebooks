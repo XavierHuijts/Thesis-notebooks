{
 "cells": [
  {
   "cell_type": "markdown",
   "id": "489bf120-4abe-4205-bf77-4f3b25fde883",
   "metadata": {},
   "source": [
    "# Import Packages"
   ]
  },
  {
   "cell_type": "code",
   "execution_count": null,
   "id": "223e5d11-63e6-4c36-829b-b2f30b4e96bf",
   "metadata": {},
   "outputs": [],
   "source": [
    "import numpy as np\n",
    "import pandas as pd\n",
    "from statsmodels.tsa.stattools import adfuller"
   ]
  },
  {
   "cell_type": "markdown",
   "id": "e5d180bc-03a7-404c-8a84-907fa9b849c6",
   "metadata": {},
   "source": [
    "# Method 1 (X)"
   ]
  },
  {
   "cell_type": "code",
   "execution_count": 2,
   "id": "52f0fb9c-bfc0-4a23-a51e-f9567280ff56",
   "metadata": {},
   "outputs": [],
   "source": [
    "def method_1(file_name, df):\n",
    "    df[\"method_1\"] = df['Value']\n",
    "    return df"
   ]
  },
  {
   "cell_type": "markdown",
   "id": "b278bb88-f232-4a62-99da-663659a9155e",
   "metadata": {},
   "source": [
    "# Method 2 (simple difference)"
   ]
  },
  {
   "cell_type": "code",
   "execution_count": 3,
   "id": "646837b7-ea73-47f5-b890-d3502d614b61",
   "metadata": {},
   "outputs": [],
   "source": [
    "def method_2(file_name, df):\n",
    "    # Initialize with 0 for the first row\n",
    "    differences = [0]  \n",
    "    # Iterate through the values in the 'Value' column and calculate the differences\n",
    "    for i in range(1, len(df)):\n",
    "        diff = df['Value'][i] - df['Value'][i - 1]\n",
    "        differences.append(diff)\n",
    "        \n",
    "    df[\"method_2\"] = differences\n",
    "    return df"
   ]
  },
  {
   "cell_type": "markdown",
   "id": "5e9abd4d-86e1-4fd5-9e07-662fc6e19e58",
   "metadata": {},
   "source": [
    "# Method 3 (squared difference)"
   ]
  },
  {
   "cell_type": "code",
   "execution_count": 4,
   "id": "042cfb1c-0920-4707-83d8-002bff67af3f",
   "metadata": {},
   "outputs": [],
   "source": [
    "def method_3(file_name, df):\n",
    "\n",
    "    squared_differences = [0]  # Initialize with 0 for the first row\n",
    "\n",
    "    # Iterate through the values in the 'Value' column and calculate the differences\n",
    "    for i in range(1, len(df)):\n",
    "        squared_diff = (df['Value'][i])**2 - (df['Value'][i - 1])**2\n",
    "        squared_differences.append(squared_diff)\n",
    "\n",
    "    # Add the 'Differences' list as a new column in the DataFrame\n",
    "    df['method_3'] = squared_differences\n",
    "    return df"
   ]
  },
  {
   "cell_type": "markdown",
   "id": "0d49d916-e975-422c-a614-cce47fef48f5",
   "metadata": {},
   "source": [
    "# Method 4 (log-normal)"
   ]
  },
  {
   "cell_type": "code",
   "execution_count": 5,
   "id": "39916309-9860-4485-87a4-10871af8342b",
   "metadata": {},
   "outputs": [],
   "source": [
    "def method_4(file_name, df):\n",
    "\n",
    "    log_divisions = [0]  # Initialize with 0 for the first row\n",
    "\n",
    "    # Iterate through the values in the 'Value' column and calculate the differences\n",
    "    for i in range(1, len(df)):\n",
    "        log_div = np.log(df['Value'][i] / df['Value'][i - 1])\n",
    "        log_divisions.append(log_div)\n",
    "\n",
    "    # Add the 'Differences' list as a new column in the DataFrame\n",
    "    df['method_4'] = log_divisions\n",
    "    return df"
   ]
  },
  {
   "cell_type": "markdown",
   "id": "ec1ea152-3a4a-4d6c-81bc-d0432b4029d8",
   "metadata": {},
   "source": [
    "# Apply methods on raw data"
   ]
  },
  {
   "cell_type": "markdown",
   "id": "635d7d70-11f1-47f5-8679-0c9b6f64dff8",
   "metadata": {},
   "source": [
    "Daily time-series"
   ]
  },
  {
   "cell_type": "code",
   "execution_count": 14,
   "id": "a70189ff-b0d9-4c00-b06e-daee2e8eebf1",
   "metadata": {},
   "outputs": [
    {
     "name": "stderr",
     "output_type": "stream",
     "text": [
      "/tmp/ipykernel_94200/4197682427.py:7: RuntimeWarning: overflow encountered in long_scalars\n",
      "  squared_diff = (df['Value'][i])**2 - (df['Value'][i - 1])**2\n",
      "/tmp/ipykernel_94200/3385137254.py:7: RuntimeWarning: divide by zero encountered in log\n",
      "  log_div = np.log(df['Value'][i] / df['Value'][i - 1])\n",
      "/tmp/ipykernel_94200/3385137254.py:7: RuntimeWarning: divide by zero encountered in double_scalars\n",
      "  log_div = np.log(df['Value'][i] / df['Value'][i - 1])\n",
      "/tmp/ipykernel_94200/3385137254.py:7: RuntimeWarning: invalid value encountered in double_scalars\n",
      "  log_div = np.log(df['Value'][i] / df['Value'][i - 1])\n",
      "/tmp/ipykernel_94200/3385137254.py:7: RuntimeWarning: invalid value encountered in log\n",
      "  log_div = np.log(df['Value'][i] / df['Value'][i - 1])\n",
      "/tmp/ipykernel_94200/3385137254.py:7: RuntimeWarning: invalid value encountered in log\n",
      "  log_div = np.log(df['Value'][i] / df['Value'][i - 1])\n",
      "/tmp/ipykernel_94200/3385137254.py:7: RuntimeWarning: divide by zero encountered in log\n",
      "  log_div = np.log(df['Value'][i] / df['Value'][i - 1])\n",
      "/tmp/ipykernel_94200/3385137254.py:7: RuntimeWarning: invalid value encountered in double_scalars\n",
      "  log_div = np.log(df['Value'][i] / df['Value'][i - 1])\n",
      "/tmp/ipykernel_94200/3385137254.py:7: RuntimeWarning: divide by zero encountered in double_scalars\n",
      "  log_div = np.log(df['Value'][i] / df['Value'][i - 1])\n"
     ]
    }
   ],
   "source": [
    "# Store function names and number of methods\n",
    "methods = [\"method_1\", \"method_2\", \"method_3\", \"method_4\"]\n",
    "n_methods = len(methods)\n",
    "\n",
    "# Store file names which contain the time-series\n",
    "files_daily = [\"Bond Index.csv\", \"Stock Index.csv\", \"Risk Free Rate.csv\", \"NIKKEI225.csv\", \"Crude Oil.csv\", \"USD to Pound.csv\", \"DGS2.csv\", \"DGS5.csv\", \"DGS10.csv\", \"T10Y3M.csv\", \"TEDRATE.csv\"]\n",
    "n_files = len(files_daily)\n",
    "\n",
    "# Loop over each file, and apply each method to it\n",
    "for file_name in files_daily:\n",
    "    df = pd.read_csv(\"Daily Raw Data/\" + file_name)\n",
    "    df.replace(\"#N/A\", np.nan, inplace=True)\n",
    "    clean_df = df.dropna().reset_index(drop=True)\n",
    "    for method in methods:\n",
    "        function = globals()[method]\n",
    "        function(file_name, clean_df)\n",
    "    # Store series\n",
    "    output_file_name = \"Generated series/Daily/\" + file_name\n",
    "    clean_df.to_csv(output_file_name, index=False)"
   ]
  },
  {
   "cell_type": "markdown",
   "id": "f6be80af-171f-49bc-8682-0384370ef3c2",
   "metadata": {},
   "source": [
    "Monthly time-series"
   ]
  },
  {
   "cell_type": "code",
   "execution_count": 16,
   "id": "9d8a88d9-de85-4137-a675-dc2a7df712d5",
   "metadata": {},
   "outputs": [
    {
     "name": "stderr",
     "output_type": "stream",
     "text": [
      "/tmp/ipykernel_94200/3385137254.py:7: RuntimeWarning: invalid value encountered in log\n",
      "  log_div = np.log(df['Value'][i] / df['Value'][i - 1])\n",
      "/tmp/ipykernel_94200/3385137254.py:7: RuntimeWarning: invalid value encountered in log\n",
      "  log_div = np.log(df['Value'][i] / df['Value'][i - 1])\n",
      "/tmp/ipykernel_94200/3385137254.py:7: RuntimeWarning: divide by zero encountered in log\n",
      "  log_div = np.log(df['Value'][i] / df['Value'][i - 1])\n",
      "/tmp/ipykernel_94200/3385137254.py:7: RuntimeWarning: divide by zero encountered in double_scalars\n",
      "  log_div = np.log(df['Value'][i] / df['Value'][i - 1])\n",
      "/tmp/ipykernel_94200/3385137254.py:7: RuntimeWarning: invalid value encountered in log\n",
      "  log_div = np.log(df['Value'][i] / df['Value'][i - 1])\n",
      "/tmp/ipykernel_94200/3385137254.py:7: RuntimeWarning: invalid value encountered in double_scalars\n",
      "  log_div = np.log(df['Value'][i] / df['Value'][i - 1])\n",
      "/tmp/ipykernel_94200/3385137254.py:7: RuntimeWarning: invalid value encountered in log\n",
      "  log_div = np.log(df['Value'][i] / df['Value'][i - 1])\n",
      "/tmp/ipykernel_94200/3385137254.py:7: RuntimeWarning: divide by zero encountered in log\n",
      "  log_div = np.log(df['Value'][i] / df['Value'][i - 1])\n",
      "/tmp/ipykernel_94200/3385137254.py:7: RuntimeWarning: divide by zero encountered in double_scalars\n",
      "  log_div = np.log(df['Value'][i] / df['Value'][i - 1])\n",
      "/tmp/ipykernel_94200/3385137254.py:7: RuntimeWarning: invalid value encountered in log\n",
      "  log_div = np.log(df['Value'][i] / df['Value'][i - 1])\n"
     ]
    }
   ],
   "source": [
    "# Store function names and number of methods\n",
    "methods = [\"method_1\", \"method_2\", \"method_3\", \"method_4\"]\n",
    "n_methods = len(methods)\n",
    "\n",
    "# Store file names which contain the time-series\n",
    "files_monthly = [\"CPIAUCNS yoy.csv\", \"CSUSHPISA yoy.csv\", \"IQ yoy.csv\", \"IR yoy.csv\", \"MICH.csv\", \"PPIACO yoy.csv\",  \"INDPRO.csv\", \"PSAVERT.csv\"]\n",
    "n_files = len(files_monthly)\n",
    "\n",
    "# Loop over each file, and apply each method to it\n",
    "for file_name in files_monthly:\n",
    "    df = pd.read_csv(\"Monthly raw data/\" + file_name)\n",
    "    df.replace(\"#N/A\", np.nan, inplace=True)\n",
    "    clean_df = df.dropna().reset_index(drop=True)\n",
    "    for method in methods:\n",
    "        function = globals()[method]\n",
    "        function(file_name, clean_df)\n",
    "    # Store series\n",
    "    output_file_name = \"Generated series/Monthly/\" + file_name\n",
    "    clean_df.to_csv(output_file_name, index=False)"
   ]
  },
  {
   "cell_type": "markdown",
   "id": "b6711fee-7984-4899-a58d-00f70efeed3c",
   "metadata": {},
   "source": [
    "# Dickey-Fuller Starionary Test (daily and monthy)"
   ]
  },
  {
   "cell_type": "markdown",
   "id": "01811fcb-d97c-45f1-9854-4b0d0757ca7d",
   "metadata": {},
   "source": [
    "Stationary test for daily generated time-series"
   ]
  },
  {
   "cell_type": "code",
   "execution_count": 6,
   "id": "0aadc027-be0f-427b-ac20-b17b7419b0a6",
   "metadata": {},
   "outputs": [
    {
     "name": "stdout",
     "output_type": "stream",
     "text": [
      "Bond Index.csv \n",
      "\n",
      "method_1\n",
      "method_2\n",
      "method_3\n",
      "method_4\n",
      "Stock Index.csv \n",
      "\n",
      "method_1\n",
      "method_2\n",
      "method_3\n",
      "method_4\n",
      "Risk Free Rate.csv \n",
      "\n",
      "method_1\n",
      "method_2\n",
      "method_3\n",
      "Do nothing\n",
      "NIKKEI225.csv \n",
      "\n",
      "method_1\n",
      "method_2\n",
      "method_3\n",
      "method_4\n",
      "Crude Oil.csv \n",
      "\n",
      "method_1\n",
      "method_2\n",
      "method_3\n",
      "method_4\n",
      "USD to Pound.csv \n",
      "\n",
      "method_1\n",
      "method_2\n",
      "method_3\n",
      "method_4\n",
      "DGS2.csv \n",
      "\n",
      "method_1\n",
      "method_2\n",
      "method_3\n",
      "method_4\n",
      "DGS5.csv \n",
      "\n",
      "method_1\n",
      "method_2\n",
      "method_3\n",
      "method_4\n",
      "DGS10.csv \n",
      "\n",
      "method_1\n",
      "method_2\n",
      "method_3\n",
      "method_4\n",
      "T10Y3M.csv \n",
      "\n",
      "method_1\n",
      "method_2\n",
      "method_3\n",
      "Do nothing\n",
      "TEDRATE.csv \n",
      "\n",
      "method_1\n",
      "method_2\n",
      "method_3\n",
      "method_4\n"
     ]
    }
   ],
   "source": [
    "methods = [\"method_1\", \"method_2\", \"method_3\", \"method_4\"]\n",
    "n_methods = len(methods)\n",
    "\n",
    "files_daily = [\"Bond Index.csv\", \"Stock Index.csv\", \"Risk Free Rate.csv\", \"NIKKEI225.csv\", \"Crude Oil.csv\", \"USD to Pound.csv\", \"DGS2.csv\", \"DGS5.csv\", \"DGS10.csv\", \"T10Y3M.csv\", \"TEDRATE.csv\"]\n",
    "n_files = len(files_daily)\n",
    "\n",
    "p_values = np.zeros((n_methods, n_files))\n",
    "t_statistics = np.zeros((n_methods, n_files))\n",
    "\n",
    "for file_name, column in zip(files_daily, range(n_files)):\n",
    "    df = pd.read_csv(\"Generated series/Daily/\" + file_name)\n",
    "    print( \"\\n\", file_name)\n",
    "    for method, row in zip(methods, range(n_files)):\n",
    "        if file_name in [\"Risk Free Rate.csv\",  \"T10Y3M.csv\"] and method in [\"method_4\", \"method_5\"]:\n",
    "            print(\"Do nothing\")\n",
    "        else:\n",
    "            series = df[method] \n",
    "            series = series[1:]\n",
    "            result = adfuller(series)\n",
    "            t_statistics[row, column] = result[0]\n",
    "            p_values[row, column] = result[1]\n",
    "            print(method)\n",
    "            "
   ]
  },
  {
   "cell_type": "markdown",
   "id": "cd05ec59-6e8f-4b12-b8c3-4a5e945a29f4",
   "metadata": {},
   "source": [
    "Extract results"
   ]
  },
  {
   "cell_type": "code",
   "execution_count": 7,
   "id": "83d750a9-64cd-45a7-8a77-8d5e3444fcb7",
   "metadata": {},
   "outputs": [],
   "source": [
    "df_p_values = pd.DataFrame(p_values, columns=files_daily, index=methods)\n",
    "df_p_values.to_csv(\"Dickey-Fuller Results/Daily P-value Results.csv\")\n",
    "\n",
    "df_t_statistics = pd.DataFrame(t_statistics, columns=files_daily, index=methods)\n",
    "df_t_statistics.to_csv(\"Dickey-Fuller Results/Daily T-statistics Results.csv\")"
   ]
  },
  {
   "cell_type": "markdown",
   "id": "d72077e8-2c86-49a9-b8ab-244389be08a1",
   "metadata": {},
   "source": [
    "Stationary test for monthly generated time-series"
   ]
  },
  {
   "cell_type": "code",
   "execution_count": 17,
   "id": "0b8d0e74-3003-4cf2-b923-1874c61bf842",
   "metadata": {},
   "outputs": [
    {
     "name": "stdout",
     "output_type": "stream",
     "text": [
      "\n",
      " CPIAUCNS yoy.csv\n",
      "method_1\n",
      "method_2\n",
      "method_3\n",
      "Do nothing\n",
      "\n",
      " CSUSHPISA yoy.csv\n",
      "method_1\n",
      "method_2\n",
      "method_3\n",
      "Do nothing\n",
      "\n",
      " IQ yoy.csv\n",
      "method_1\n",
      "method_2\n",
      "method_3\n",
      "Do nothing\n",
      "\n",
      " IR yoy.csv\n",
      "method_1\n",
      "method_2\n",
      "method_3\n",
      "Do nothing\n",
      "\n",
      " MICH.csv\n",
      "method_1\n",
      "method_2\n",
      "method_3\n",
      "method_4\n",
      "\n",
      " PPIACO yoy.csv\n",
      "method_1\n",
      "method_2\n",
      "method_3\n",
      "Do nothing\n",
      "\n",
      " INDPRO.csv\n",
      "method_1\n",
      "method_2\n",
      "method_3\n",
      "method_4\n",
      "\n",
      " PSAVERT.csv\n",
      "method_1\n",
      "method_2\n",
      "method_3\n",
      "method_4\n"
     ]
    }
   ],
   "source": [
    "methods = [\"method_1\", \"method_2\", \"method_3\", \"method_4\"]\n",
    "n_methods = len(methods)\n",
    "\n",
    "files_monthly = [\"CPIAUCNS yoy.csv\", \"CSUSHPISA yoy.csv\", \"IQ yoy.csv\", \"IR yoy.csv\", \"MICH.csv\", \"PPIACO yoy.csv\",  \"INDPRO.csv\", \"PSAVERT.csv\"]\n",
    "n_files = len(files_monthly)\n",
    "\n",
    "t_statistics = np.zeros((n_methods, n_files))\n",
    "p_values = np.zeros((n_methods, n_files))\n",
    "\n",
    "for file_name, column in zip(files_monthly, range(n_files)):\n",
    "    df = pd.read_csv(\"Generated series/Monthly/\" + file_name)\n",
    "    print(\"\\n\", file_name)\n",
    "    for method, row in zip(methods, range(n_files)):\n",
    "        if file_name in [\"CPIAUCNS yoy.csv\", \"CSUSHPISA yoy.csv\", \"IQ yoy.csv\", \"IR yoy.csv\", \"PPIACO yoy.csv\"] and method == \"method_4\":\n",
    "            print(\"Do nothing\")\n",
    "        else:\n",
    "            series = df[method] \n",
    "            series = series[1:]\n",
    "            result = adfuller(series)\n",
    "            t_statistics[row, column] = result[0]\n",
    "            p_values[row, column] = result[1]\n",
    "            print(method)"
   ]
  },
  {
   "cell_type": "markdown",
   "id": "d1401a1f-0ee4-4e7c-a63c-2c968ee5d27d",
   "metadata": {},
   "source": [
    "Extract results"
   ]
  },
  {
   "cell_type": "code",
   "execution_count": 18,
   "id": "da67c635-8f06-4ce3-89f3-33ce5f1cc4e4",
   "metadata": {},
   "outputs": [],
   "source": [
    "df_p_values = pd.DataFrame(p_values, columns=files_monthly, index=methods)\n",
    "df_p_values.to_csv(\"Dickey-Fuller Results/Monthly P-value Results.csv\")\n",
    "\n",
    "df_t_statistics = pd.DataFrame(t_statistics, columns=files_monthly, index=methods)\n",
    "df_t_statistics.to_csv(\"Dickey-Fuller Results/Monthly T-statistics Results.csv\")"
   ]
  }
 ],
 "metadata": {
  "kernelspec": {
   "display_name": "Python 3 (ipykernel)",
   "language": "python",
   "name": "python3"
  },
  "language_info": {
   "codemirror_mode": {
    "name": "ipython",
    "version": 3
   },
   "file_extension": ".py",
   "mimetype": "text/x-python",
   "name": "python",
   "nbconvert_exporter": "python",
   "pygments_lexer": "ipython3",
   "version": "3.9.7"
  }
 },
 "nbformat": 4,
 "nbformat_minor": 5
}
