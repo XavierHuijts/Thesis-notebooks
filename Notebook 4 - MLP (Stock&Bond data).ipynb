{
 "cells": [
  {
   "cell_type": "markdown",
   "id": "87d836f8-1906-4674-815e-42a9955986b3",
   "metadata": {},
   "source": [
    "# Import packages"
   ]
  },
  {
   "cell_type": "code",
   "execution_count": 1,
   "id": "03132fa6-01bd-43be-b95b-8b1ad881b259",
   "metadata": {},
   "outputs": [],
   "source": [
    "import pandas as pd\n",
    "import numpy as np\n",
    "import tensorflow as tf\n",
    "import keras_tuner as kt\n",
    "from tensorflow import keras\n",
    "from tensorflow.keras.models import Sequential\n",
    "from tensorflow.keras.layers import Dense, BatchNormalization, Dropout\n",
    "from sklearn.metrics import r2_score\n",
    "from sklearn.preprocessing import StandardScaler\n",
    "from sklearn.metrics import confusion_matrix, accuracy_score, f1_score\n",
    "import matplotlib.pyplot as plt\n",
    "import seaborn as sns"
   ]
  },
  {
   "cell_type": "markdown",
   "id": "4e7e28c7-4eaa-4695-bef5-dfc176f65208",
   "metadata": {},
   "source": [
    "# Stock & Bond data features"
   ]
  },
  {
   "cell_type": "code",
   "execution_count": 2,
   "id": "b3e55597-2d96-40d8-8496-364d6347dd57",
   "metadata": {},
   "outputs": [
    {
     "name": "stdout",
     "output_type": "stream",
     "text": [
      "Feature 1: Mean (S&P500)\n",
      "Feature 2: Standard dev. (S&P500)\n",
      "Feature 3: Kurtosis (S&P500)\n",
      "Feature 4: Skew (S&P500)\n",
      "Feature 5: 25th percentile (S&P500)\n",
      "Feature 6: 75th percentile (S&P500)\n",
      "Feature 7: Mean (BAMLCC0A1AAATRIV)\n",
      "Feature 8: Standard dev. (BAMLCC0A1AAATRIV)\n",
      "Feature 9: Kurtosis (BAMLCC0A1AAATRIV)\n",
      "Feature 10: Skew (BAMLCC0A1AAATRIV)\n",
      "Feature 11: 25th percentile (BAMLCC0A1AAATRIV)\n",
      "Feature 12: 75th percentile (BAMLCC0A1AAATRIV)\n"
     ]
    }
   ],
   "source": [
    "stock_and_bond_features = ['Mean (S&P500)', 'Standard dev. (S&P500)', 'Kurtosis (S&P500)', \n",
    "                           'Skew (S&P500)', '25th percentile (S&P500)', \n",
    "                           '75th percentile (S&P500)', 'Mean (BAMLCC0A1AAATRIV)', \n",
    "                           'Standard dev. (BAMLCC0A1AAATRIV)', 'Kurtosis (BAMLCC0A1AAATRIV)',\n",
    "                           'Skew (BAMLCC0A1AAATRIV)', '25th percentile (BAMLCC0A1AAATRIV)',\n",
    "                            '75th percentile (BAMLCC0A1AAATRIV)']\n",
    "\n",
    "for feature, i in zip(stock_and_bond_features, range(1, len(stock_and_bond_features)+1)):\n",
    "    print(f\"Feature {i}: {feature}\")"
   ]
  },
  {
   "cell_type": "markdown",
   "id": "86b25728-2c1a-451b-842b-9879ae3f825a",
   "metadata": {},
   "source": [
    "# Combine target and features into one dataframe"
   ]
  },
  {
   "cell_type": "code",
   "execution_count": 3,
   "id": "a0e0be97-d2c5-4e95-8901-233153124acf",
   "metadata": {},
   "outputs": [
    {
     "name": "stdout",
     "output_type": "stream",
     "text": [
      "Shape: (382, 16)\n",
      "\n",
      "           DATE  Stock index  Bond Index DATE Features  Mean (S&P500)\n",
      "0    01/03/1990         0.70        0.30    01/02/1990       0.000481\n",
      "1    01/04/1990         0.98        0.02    01/03/1990       0.000950\n",
      "2    01/05/1990         0.30        0.70    01/04/1990      -0.001379\n",
      "3    01/06/1990         0.00        1.00    01/05/1990       0.003997\n",
      "4    01/07/1990         0.00        1.00    01/06/1990      -0.000504\n",
      "..          ...          ...         ...           ...            ...\n",
      "377  01/08/2021         0.99        0.01    01/07/2021       0.001138\n",
      "378  01/09/2021         0.00        1.00    01/08/2021       0.001292\n",
      "379  01/10/2021         0.65        0.35    01/09/2021      -0.002278\n",
      "380  01/11/2021         0.00        1.00    01/10/2021       0.003169\n",
      "381  01/12/2021         0.67        0.33    01/11/2021      -0.000502\n",
      "\n",
      "[382 rows x 5 columns]\n"
     ]
    },
    {
     "data": {
      "text/plain": [
       "'\\nThere are two columns with dates, as one functions for the target (see column 0: DATE) at time t+1, and the other (see column 4: DATE Features) for the feature date at time t.\\n'"
      ]
     },
     "execution_count": 3,
     "metadata": {},
     "output_type": "execute_result"
    }
   ],
   "source": [
    "# Extracted features & name date columns\n",
    "df = pd.read_csv(\"files/Monthly Extracted Features.csv\")\n",
    "df.columns.array[0] = 'DATE Features'\n",
    "# Add date columns to list with feature names\n",
    "stock_and_bond_features.insert(0, 'DATE Features')\n",
    "\n",
    "# Extract date column and Bond/Stock features\n",
    "features = df[stock_and_bond_features]\n",
    "features = features.drop(0)                       # Drop first row\n",
    "features = features.drop(features.index[-1])      # Drop last row\n",
    "features = features.reset_index(drop=True)\n",
    "\n",
    "# Add target to feature DF\n",
    "target = pd.read_csv(\"files/Target.csv\")\n",
    "complete_set = pd.concat([target, features], axis=1)\n",
    "complete_set['DATE Features'] = pd.to_datetime('01/' + complete_set['DATE Features'], format='%d/%m/%Y')\n",
    "complete_set['DATE Features'] = complete_set['DATE Features'].dt.strftime('%d/%m/%Y')\n",
    "print(f\"Shape: {complete_set.shape}\\n\")\n",
    "print(complete_set.iloc[:, :5])\n",
    "\n",
    "'''\n",
    "There are two columns with dates, as one functions for the target (see column 0: DATE) at time t+1, and the other (see column 4: DATE Features) for the feature date at time t.\n",
    "'''"
   ]
  },
  {
   "cell_type": "markdown",
   "id": "2762ca92-215f-4e1e-8a43-c0b8dbca5b71",
   "metadata": {},
   "source": [
    "# Standardize features"
   ]
  },
  {
   "cell_type": "code",
   "execution_count": 4,
   "id": "eb667f6a-98db-444a-8c47-2b082341c82e",
   "metadata": {},
   "outputs": [
    {
     "name": "stdout",
     "output_type": "stream",
     "text": [
      "Shape: (382, 16)\n",
      "           DATE  Stock index  Bond Index DATE Features  Mean (S&P500)\n",
      "0    01/03/1990         0.70        0.30    01/02/1990       0.085107\n",
      "1    01/04/1990         0.98        0.02    01/03/1990       0.307364\n",
      "2    01/05/1990         0.30        0.70    01/04/1990      -0.797052\n",
      "3    01/06/1990         0.00        1.00    01/05/1990       1.753057\n",
      "4    01/07/1990         0.00        1.00    01/06/1990      -0.382107\n",
      "..          ...          ...         ...           ...            ...\n",
      "377  01/08/2021         0.99        0.01    01/07/2021       0.396853\n",
      "378  01/09/2021         0.00        1.00    01/08/2021       0.469964\n",
      "379  01/10/2021         0.65        0.35    01/09/2021      -1.223920\n",
      "380  01/11/2021         0.00        1.00    01/10/2021       1.360335\n",
      "381  01/12/2021         0.67        0.33    01/11/2021      -0.381417\n",
      "\n",
      "[382 rows x 5 columns]\n"
     ]
    }
   ],
   "source": [
    "df = complete_set\n",
    "\n",
    "# Separate the years, target columns, and features\n",
    "years = df.iloc[:, 3]\n",
    "target_columns = df.iloc[:, 1:3]\n",
    "features = df.iloc[:, 4:]\n",
    "\n",
    "# Identify the indices corresponding to the training and test periods\n",
    "train_indices = (pd.to_datetime(years, format='%d/%m/%Y') >= '1990-01-01') & (pd.to_datetime(years, format='%d/%m/%Y') <= '2010-12-31')\n",
    "valid_and_test_indices = (pd.to_datetime(years, format='%d/%m/%Y') >= '2011-01-01') & (pd.to_datetime(years, format='%d/%m/%Y') <= '2021-12-31')\n",
    "\n",
    "# Extract the training and test features\n",
    "X_train = features[train_indices]\n",
    "X_valid_and_test = features[valid_and_test_indices]\n",
    "\n",
    "# Standardize the training and test features using the training statistics\n",
    "scaler = StandardScaler()\n",
    "X_train_scaled = scaler.fit_transform(X_train)\n",
    "X_valid_and_test_scaled = scaler.transform(X_valid_and_test)\n",
    "\n",
    "# Replace the original feature columns with the standardized ones\n",
    "df.iloc[train_indices, 4:] = X_train_scaled\n",
    "df.iloc[valid_and_test_indices, 4:] = X_valid_and_test_scaled\n",
    "print(f\"Shape: {df.shape}\")\n",
    "print(df.iloc[:, :5])\n",
    "df.to_csv(\"files/Standardized features Stock&Bond.csv\")"
   ]
  },
  {
   "cell_type": "markdown",
   "id": "1fcc3b5d-2ed2-4bce-9a5c-df2d12004957",
   "metadata": {},
   "source": [
    "# MLP: tune hyper-parameters for one window\n",
    "\n",
    "- Each layer can have a unique number of neurons. \n",
    "- The dropout rate is the same in each hidden layer\n",
    "- Batch normalization occurs after each hidden layer or does not occur at all\n"
   ]
  },
  {
   "cell_type": "code",
   "execution_count": 39,
   "id": "51b656aa-48f9-47bc-ac23-94010c17f887",
   "metadata": {},
   "outputs": [],
   "source": [
    "# Set the seed for reproducibility purposes\n",
    "seed_value = 42\n",
    "np.random.seed(seed_value)\n",
    "tf.random.set_seed(seed_value)\n",
    "\n",
    "def optimize_hyperparameters(X_train, y_train, X_val, y_val):\n",
    "    def build_model(hp):\n",
    "        model = Sequential()\n",
    "        \n",
    "        # Input layer & first hidden layer\n",
    "        model.add(Dense(units=hp.Choice('N_neurons_layer_1', values=[8, 16, 32, 64, 128]), input_dim=X_train.shape[1], activation='relu'))\n",
    "        model.add(Dropout(hp.Choice('Dropout_rate', values=[0.0, 0.25, 0.5])))\n",
    "        if hp.Choice('Batch_normalization', values=[True, False]):\n",
    "            model.add(BatchNormalization())\n",
    "\n",
    "        # Minimum of 2 and maximum of 3 hidden layers\n",
    "        n_hidden_layers = hp.Choice('N_hidden_layers', values=[2, 3])\n",
    "        \n",
    "        # Layer 2\n",
    "        if n_hidden_layers == 2:\n",
    "            model.add(Dense(units=hp.Choice('N_neurons_layer_2', values=[8, 16, 32, 64, 128]), activation='relu'))\n",
    "            model.add(Dropout(hp.Choice('Dropout_rate',  values=[0.0, 0.25, 0.5])))\n",
    "            if hp.Choice('Batch_normalization', values=[True, False]):\n",
    "                model.add(BatchNormalization())    \n",
    "        else:\n",
    "            # Layer 2\n",
    "            model.add(Dense(units=hp.Choice('N_neurons_layer_2', values=[8, 16, 32, 64, 128]), activation='relu'))\n",
    "            model.add(Dropout(hp.Choice('Dropout_rate',  values=[0.0, 0.25, 0.5])))\n",
    "            if hp.Choice('Batch_normalization', values=[True, False]):\n",
    "                model.add(BatchNormalization())\n",
    "                                    \n",
    "            # Layer 3\n",
    "            model.add(Dense(units=hp.Choice('N_neurons_layer_3', values=[8, 16, 32, 64, 128]), activation='relu'))\n",
    "            model.add(Dropout(hp.Choice('Dropout_rate',  values=[0.0, 0.25, 0.5])))\n",
    "            if hp.Choice('Batch_normalization', values=[True, False]):\n",
    "                model.add(BatchNormalization())\n",
    "\n",
    "                \n",
    "        # Output: weight_stock_index & weight_bond_index\n",
    "        model.add(Dense(units=2, activation='softmax'))\n",
    "\n",
    "        # Learning rates for Adam (default=0.001)\n",
    "        lr = hp.Choice('Learning_rate', values=[0.01, 0.0001, 0.001])\n",
    "        optimizer = keras.optimizers.Adam(learning_rate=lr)\n",
    "   \n",
    "        # Compile model\n",
    "        model.compile(optimizer=optimizer, loss='mean_absolute_error', metrics=['mean_absolute_error'])\n",
    "        return model\n",
    "    \n",
    "    tuner = kt.RandomSearch(\n",
    "        build_model,\n",
    "        objective=kt.Objective('val_mean_absolute_error', direction='min'),\n",
    "        max_trials=100,\n",
    "        seed=42,\n",
    "        tune_new_entries=True,\n",
    "        allow_new_entries=True,\n",
    "        max_retries_per_trial=0,\n",
    "        max_consecutive_failed_trials=3,\n",
    "        overwrite= True)\n",
    "        \n",
    "    tuner.search(x=X_train,\n",
    "                 y=y_train,\n",
    "                 epochs=10,\n",
    "                 batch_size=32,\n",
    "                 validation_data=(X_val, y_val))\n",
    "    \n",
    "    # Get the best hyperparameters and the best trial\n",
    "    best_trial = tuner.oracle.get_best_trials(num_trials=1)[0]\n",
    "    best_hyperparameters = best_trial.hyperparameters\n",
    "\n",
    "    return best_hyperparameters.values"
   ]
  },
  {
   "cell_type": "markdown",
   "id": "a2ceb236-cb3f-4319-97cc-6bda85c4ba0f",
   "metadata": {},
   "source": [
    "# MLP: call function for each window to extract tuned hyper-parameters"
   ]
  },
  {
   "cell_type": "code",
   "execution_count": 40,
   "id": "8f8f8958-dd86-4b0c-8a20-2af12bee146f",
   "metadata": {},
   "outputs": [
    {
     "name": "stdout",
     "output_type": "stream",
     "text": [
      "Trial 100 Complete [00h 00m 03s]\n",
      "val_mean_absolute_error: 0.35451555252075195\n",
      "\n",
      "Best val_mean_absolute_error So Far: 0.3109350800514221\n",
      "Total elapsed time: 00h 05m 28s\n",
      "  Window N_hidden_layers N_neurons_layer_1 N_neurons_layer_2  \\\n",
      "0      0               3                64                32   \n",
      "1      1               3                 8               128   \n",
      "2      2               2                16                 8   \n",
      "3      3               2               128                32   \n",
      "4      4               2               128               128   \n",
      "5      5               3                64                32   \n",
      "\n",
      "  N_neurons_layer_3 Batch_normalization Dropout_rate Learning_rate   MAE  \n",
      "0                 8                   0         0.25          0.01  None  \n",
      "1                64                   1         0.25         0.001  None  \n",
      "2              None                   1          0.0         0.001  None  \n",
      "3              None                   0          0.0          0.01  None  \n",
      "4              None                   1         0.25          0.01  None  \n",
      "5                 8                   1          0.0        0.0001  None  \n",
      "  Window N_hidden_layers N_neurons_layer_1 N_neurons_layer_2  \\\n",
      "0      0               3                64                32   \n",
      "1      1               3                 8               128   \n",
      "2      2               2                16                 8   \n",
      "3      3               2               128                32   \n",
      "4      4               2               128               128   \n",
      "5      5               3                64                32   \n",
      "\n",
      "  N_neurons_layer_3 Batch_normalization Dropout_rate Learning_rate   MAE  \n",
      "0                 8                   0         0.25          0.01  None  \n",
      "1                64                   1         0.25         0.001  None  \n",
      "2              None                   1          0.0         0.001  None  \n",
      "3              None                   0          0.0          0.01  None  \n",
      "4              None                   1         0.25          0.01  None  \n",
      "5                 8                   1          0.0        0.0001  None  \n"
     ]
    }
   ],
   "source": [
    "# Pre-define table for hyper-parameter results\n",
    "hp_results = pd.DataFrame(\n",
    "    {\"Window\":              [None, None, None, None, None, None],\n",
    "     \"N_hidden_layers\":     [None, None, None, None, None, None],\n",
    "     \"N_neurons_layer_1\":   [None, None, None, None, None, None],\n",
    "     \"N_neurons_layer_2\":   [None, None, None, None, None, None],\n",
    "     \"N_neurons_layer_3\":   [None, None, None, None, None, None],\n",
    "     \"Batch_normalization\": [None, None, None, None, None, None],\n",
    "     \"Dropout_rate\":        [None, None, None, None, None, None],\n",
    "     \"Learning_rate\":       [None, None, None, None, None, None],\n",
    "     \"MAE\":                 [None, None, None, None, None, None]\n",
    "    })\n",
    "\n",
    "# Date (column 1), target (column B & C), Sharpe ratio (Column D), & features (column E & onwards)\n",
    "exclude_bottom = ['1990', '1991', '1992', '1993', '1994']\n",
    "exclude_top = ['2016', '2017', '2018', '2019', '2020', '2021']\n",
    "validation_years = ['2011', '2012', '2013', '2014', '2015', '2016', '2017', '2018', '2019', '2020']\n",
    "\n",
    "start_year_validation = 0\n",
    "end_year_validation = 5\n",
    "for window in range(6):\n",
    "    # Getting training data\n",
    "    exclude_1 = exclude_bottom[:window]\n",
    "    exclude_2 = exclude_top[window:]\n",
    "    exclude_concat = exclude_1 + exclude_2\n",
    "    full_window = df[~df['DATE'].str.contains('|'.join(exclude_concat))]\n",
    "\n",
    "    # Training + validation set\n",
    "    val_years = validation_years[start_year_validation:end_year_validation]\n",
    "    train_set = full_window[~full_window['DATE'].str.contains('|'.join(val_years))]\n",
    "    X_train = train_set.iloc[:, 4:]\n",
    "    y_train = train_set.iloc[:, [1, 2]]\n",
    "    \n",
    "    # Validation set\n",
    "    val_set = full_window[full_window['DATE'].str.contains('|'.join(val_years))]\n",
    "    X_val = val_set.iloc[:, 4:]\n",
    "    y_val = val_set.iloc[:, [1, 2]]\n",
    "\n",
    "    start_year_validation += 1\n",
    "    end_year_validation += 1\n",
    "\n",
    "    results_one_window = optimize_hyperparameters(X_train, y_train, X_val, y_val)\n",
    "    \n",
    "    #Allocate results to dataframe\n",
    "    hp_results.at[window, \"Window\"] = window\n",
    "    hp_results.at[window, \"N_hidden_layers\"] = results_one_window['N_hidden_layers']\n",
    "    hp_results.at[window, \"N_neurons_layer_1\"] = results_one_window['N_neurons_layer_1'] \n",
    "    hp_results.at[window, \"N_neurons_layer_2\"] = results_one_window['N_neurons_layer_2'] \n",
    "    if results_one_window['N_hidden_layers'] == 3:\n",
    "        hp_results.at[window, \"N_neurons_layer_3\"] = results_one_window['N_neurons_layer_3'] \n",
    "    else: \n",
    "        hp_results.at[window, \"N_neurons_layer_3\"] = None\n",
    "    hp_results.at[window, \"Batch_normalization\"] = results_one_window['Batch_normalization'] \n",
    "    hp_results.at[window, \"Dropout_rate\"] = results_one_window['Dropout_rate'] \n",
    "    hp_results.at[window, \"Learning_rate\"] = results_one_window['Learning_rate']\n",
    "    print(hp_results)\n",
    "    \n",
    "hp_results.to_csv(\"Final results/Hyper-parameter results/MLP Stock&Bond Features.csv\")\n",
    "print(hp_results)"
   ]
  },
  {
   "cell_type": "markdown",
   "id": "d4fc1287-0fbd-463e-8382-f45c010346f0",
   "metadata": {},
   "source": [
    "# MLP: get results on test set for one window"
   ]
  },
  {
   "cell_type": "code",
   "execution_count": 7,
   "id": "674d6b1d-b0d3-46d7-a879-266f791c2e9c",
   "metadata": {},
   "outputs": [],
   "source": [
    "def test_set(X_train, y_train, X_test, y_test, n_layers, n_neurons_L1, n_neurons_L2, n_neurons_L3, batch_normalization, dropout_rate, learning_rate):\n",
    "    \n",
    "    # Set the seed for reproducibility\n",
    "    seed_value = 42\n",
    "    np.random.seed(seed_value)\n",
    "    tf.random.set_seed(seed_value)\n",
    "    \n",
    "    model = Sequential()\n",
    "\n",
    "    # Input layer and first hidden layer\n",
    "    model.add(Dense(units=n_neurons_L1, input_dim=X_train.shape[1], activation='relu'))\n",
    "    model.add(Dropout(dropout_rate))    \n",
    "    if batch_normalization == True:\n",
    "        model.add(BatchNormalization())\n",
    "            \n",
    "    if n_layers == 2:\n",
    "        # Second hidden layer\n",
    "        model.add(Dense(units=n_neurons_L2, activation='relu'))\n",
    "        model.add(Dropout(dropout_rate))   \n",
    "        if batch_normalization == True:\n",
    "            model.add(BatchNormalization())\n",
    "                  \n",
    "        # Possible third hidden layer\n",
    "        if n_layers == 3:\n",
    "            model.add(Dense(units=n_neurons_L3, activation='relu'))\n",
    "            model.add(Dropout(dropout_rate))    \n",
    "            if batch_normalization == True:\n",
    "                model.add(BatchNormalization())\n",
    "        \n",
    "    # Output: weight_stock_index & weight_bond_index\n",
    "    model.add(Dense(units=2, activation='softmax'))\n",
    "\n",
    "    optimizer = keras.optimizers.Adam(learning_rate=learning_rate)\n",
    "    model.compile(optimizer=optimizer, loss='mae', metrics=['mae'])\n",
    "    model.fit(X_train, y_train, epochs=10, batch_size=32)\n",
    "\n",
    "    # Evaluate the model on the test data\n",
    "    y_pred = model.predict(X_test)\n",
    "    loss, mae = model.evaluate(X_test, y_test)\n",
    "\n",
    "    # R-squared\n",
    "    r_squared = r2_score(y_test, y_pred)\n",
    "    return mae, r_squared, y_test, y_pred"
   ]
  },
  {
   "cell_type": "markdown",
   "id": "86f5570a-c7c6-4655-8537-aa4f67b1e46a",
   "metadata": {},
   "source": [
    "# MLP: call function for each window to extract all test results"
   ]
  },
  {
   "cell_type": "code",
   "execution_count": 8,
   "id": "8b8c6f47-4a8f-4ab1-bbb9-70862a58cf0b",
   "metadata": {
    "jp-MarkdownHeadingCollapsed": true,
    "tags": []
   },
   "outputs": [
    {
     "name": "stdout",
     "output_type": "stream",
     "text": [
      "Epoch 1/10\n",
      "10/10 [==============================] - 1s 1ms/step - loss: 0.3723 - mae: 0.3723\n",
      "Epoch 2/10\n",
      "10/10 [==============================] - 0s 1ms/step - loss: 0.3406 - mae: 0.3406\n",
      "Epoch 3/10\n",
      "10/10 [==============================] - 0s 1ms/step - loss: 0.3226 - mae: 0.3226\n",
      "Epoch 4/10\n",
      "10/10 [==============================] - 0s 977us/step - loss: 0.3237 - mae: 0.3237\n",
      "Epoch 5/10\n",
      "10/10 [==============================] - 0s 1ms/step - loss: 0.3164 - mae: 0.3164\n",
      "Epoch 6/10\n",
      "10/10 [==============================] - 0s 1ms/step - loss: 0.3138 - mae: 0.3138\n",
      "Epoch 7/10\n",
      "10/10 [==============================] - 0s 1ms/step - loss: 0.3056 - mae: 0.3056\n",
      "Epoch 8/10\n",
      "10/10 [==============================] - 0s 9ms/step - loss: 0.2996 - mae: 0.2996\n",
      "Epoch 9/10\n",
      "10/10 [==============================] - 0s 1ms/step - loss: 0.3023 - mae: 0.3023\n",
      "Epoch 10/10\n",
      "10/10 [==============================] - 0s 10ms/step - loss: 0.2931 - mae: 0.2931\n",
      "1/1 [==============================] - 0s 121ms/step - loss: 0.2586 - mae: 0.2586\n"
     ]
    },
    {
     "data": {
      "image/png": "[encoded data removed]",
      "text/plain": [
       "<Figure size 576x432 with 2 Axes>"
      ]
     },
     "metadata": {
      "needs_background": "light"
     },
     "output_type": "display_data"
    },
    {
     "name": "stdout",
     "output_type": "stream",
     "text": [
      "Epoch 1/10\n",
      "10/10 [==============================] - 1s 1ms/step - loss: 0.4209 - mae: 0.4209\n",
      "Epoch 2/10\n",
      "10/10 [==============================] - 0s 9ms/step - loss: 0.4140 - mae: 0.4140\n",
      "Epoch 3/10\n",
      "10/10 [==============================] - 0s 941us/step - loss: 0.4068 - mae: 0.4068\n",
      "Epoch 4/10\n",
      "10/10 [==============================] - 0s 9ms/step - loss: 0.4007 - mae: 0.4007\n",
      "Epoch 5/10\n",
      "10/10 [==============================] - 0s 979us/step - loss: 0.4033 - mae: 0.4033\n",
      "Epoch 6/10\n",
      "10/10 [==============================] - 0s 10ms/step - loss: 0.3910 - mae: 0.3910\n",
      "Epoch 7/10\n",
      "10/10 [==============================] - 0s 1ms/step - loss: 0.3838 - mae: 0.3838\n",
      "Epoch 8/10\n",
      "10/10 [==============================] - 0s 1ms/step - loss: 0.3759 - mae: 0.3759\n",
      "Epoch 9/10\n",
      "10/10 [==============================] - 0s 10ms/step - loss: 0.3774 - mae: 0.3774\n",
      "Epoch 10/10\n",
      "10/10 [==============================] - 0s 1ms/step - loss: 0.3818 - mae: 0.3818\n",
      "1/1 [==============================] - 0s 120ms/step - loss: 0.2585 - mae: 0.2585\n"
     ]
    },
    {
     "data": {
      "image/png": "[encoded data removed]",
      "text/plain": [
       "<Figure size 576x432 with 2 Axes>"
      ]
     },
     "metadata": {
      "needs_background": "light"
     },
     "output_type": "display_data"
    },
    {
     "name": "stdout",
     "output_type": "stream",
     "text": [
      "Epoch 1/10\n",
      "10/10 [==============================] - 1s 2ms/step - loss: 0.4008 - mae: 0.4008\n",
      "Epoch 2/10\n",
      "10/10 [==============================] - 0s 10ms/step - loss: 0.3938 - mae: 0.3938\n",
      "Epoch 3/10\n",
      "10/10 [==============================] - 0s 10ms/step - loss: 0.3879 - mae: 0.3879\n",
      "Epoch 4/10\n",
      "10/10 [==============================] - 0s 10ms/step - loss: 0.3803 - mae: 0.3803\n",
      "Epoch 5/10\n",
      "10/10 [==============================] - 0s 1ms/step - loss: 0.3833 - mae: 0.3833\n",
      "Epoch 6/10\n",
      "10/10 [==============================] - 0s 1ms/step - loss: 0.3700 - mae: 0.3700\n",
      "Epoch 7/10\n",
      "10/10 [==============================] - 0s 10ms/step - loss: 0.3584 - mae: 0.3584\n",
      "Epoch 8/10\n",
      "10/10 [==============================] - 0s 10ms/step - loss: 0.3572 - mae: 0.3572\n",
      "Epoch 9/10\n",
      "10/10 [==============================] - 0s 1ms/step - loss: 0.3488 - mae: 0.3488\n",
      "Epoch 10/10\n",
      "10/10 [==============================] - 0s 10ms/step - loss: 0.3499 - mae: 0.3499\n",
      "1/1 [==============================] - 0s 187ms/step - loss: 0.4299 - mae: 0.4299\n"
     ]
    },
    {
     "data": {
      "image/png": "[encoded data removed]",
      "text/plain": [
       "<Figure size 576x432 with 2 Axes>"
      ]
     },
     "metadata": {
      "needs_background": "light"
     },
     "output_type": "display_data"
    },
    {
     "name": "stdout",
     "output_type": "stream",
     "text": [
      "Epoch 1/10\n",
      "10/10 [==============================] - 1s 1ms/step - loss: 0.3717 - mae: 0.3717\n",
      "Epoch 2/10\n",
      "10/10 [==============================] - 0s 9ms/step - loss: 0.3340 - mae: 0.3340\n",
      "Epoch 3/10\n",
      "10/10 [==============================] - 0s 1ms/step - loss: 0.3172 - mae: 0.3172\n",
      "Epoch 4/10\n",
      "10/10 [==============================] - 0s 10ms/step - loss: 0.3022 - mae: 0.3022\n",
      "Epoch 5/10\n",
      "10/10 [==============================] - 0s 1ms/step - loss: 0.2943 - mae: 0.2943\n",
      "Epoch 6/10\n",
      "10/10 [==============================] - 0s 10ms/step - loss: 0.2809 - mae: 0.2809: 0s - loss: 0.2489 - mae: 0.248\n",
      "Epoch 7/10\n",
      "10/10 [==============================] - 0s 957us/step - loss: 0.2719 - mae: 0.2719\n",
      "Epoch 8/10\n",
      "10/10 [==============================] - 0s 1ms/step - loss: 0.2667 - mae: 0.2667\n",
      "Epoch 9/10\n",
      "10/10 [==============================] - 0s 10ms/step - loss: 0.2506 - mae: 0.2506\n",
      "Epoch 10/10\n",
      "10/10 [==============================] - 0s 1ms/step - loss: 0.2474 - mae: 0.2474\n",
      "1/1 [==============================] - 0s 169ms/step - loss: 0.3833 - mae: 0.3833\n"
     ]
    },
    {
     "data": {
      "image/png": "[encoded data removed]",
      "text/plain": [
       "<Figure size 576x432 with 2 Axes>"
      ]
     },
     "metadata": {
      "needs_background": "light"
     },
     "output_type": "display_data"
    },
    {
     "name": "stdout",
     "output_type": "stream",
     "text": [
      "Epoch 1/10\n",
      "10/10 [==============================] - 1s 10ms/step - loss: 0.4271 - mae: 0.4271\n",
      "Epoch 2/10\n",
      "10/10 [==============================] - 0s 2ms/step - loss: 0.3868 - mae: 0.3868\n",
      "Epoch 3/10\n",
      "10/10 [==============================] - 0s 2ms/step - loss: 0.3681 - mae: 0.3681\n",
      "Epoch 4/10\n",
      "10/10 [==============================] - 0s 2ms/step - loss: 0.3572 - mae: 0.3572\n",
      "Epoch 5/10\n",
      "10/10 [==============================] - 0s 2ms/step - loss: 0.3538 - mae: 0.3538\n",
      "Epoch 6/10\n",
      "10/10 [==============================] - 0s 10ms/step - loss: 0.3296 - mae: 0.3296\n",
      "Epoch 7/10\n",
      "10/10 [==============================] - 0s 11ms/step - loss: 0.3257 - mae: 0.3257\n",
      "Epoch 8/10\n",
      "10/10 [==============================] - 0s 10ms/step - loss: 0.3286 - mae: 0.3286\n",
      "Epoch 9/10\n",
      "10/10 [==============================] - 0s 11ms/step - loss: 0.3136 - mae: 0.3136\n",
      "Epoch 10/10\n",
      "10/10 [==============================] - 0s 10ms/step - loss: 0.3044 - mae: 0.3044\n",
      "1/1 [==============================] - 0s 139ms/step - loss: 0.6586 - mae: 0.6586\n"
     ]
    },
    {
     "data": {
      "image/png": "[encoded data removed]",
      "text/plain": [
       "<Figure size 576x432 with 2 Axes>"
      ]
     },
     "metadata": {
      "needs_background": "light"
     },
     "output_type": "display_data"
    },
    {
     "name": "stdout",
     "output_type": "stream",
     "text": [
      "Epoch 1/10\n",
      "10/10 [==============================] - 1s 8ms/step - loss: 0.4369 - mae: 0.4369\n",
      "Epoch 2/10\n",
      "10/10 [==============================] - 0s 10ms/step - loss: 0.4272 - mae: 0.4272\n",
      "Epoch 3/10\n",
      "10/10 [==============================] - 0s 2ms/step - loss: 0.4291 - mae: 0.4291\n",
      "Epoch 4/10\n",
      "10/10 [==============================] - 0s 10ms/step - loss: 0.4290 - mae: 0.4290\n",
      "Epoch 5/10\n",
      "10/10 [==============================] - 0s 10ms/step - loss: 0.4209 - mae: 0.4209: 0s - loss: 0.4085 - mae: 0.408\n",
      "Epoch 6/10\n",
      "10/10 [==============================] - 0s 11ms/step - loss: 0.4231 - mae: 0.4231\n",
      "Epoch 7/10\n",
      "10/10 [==============================] - 0s 11ms/step - loss: 0.4192 - mae: 0.4192\n",
      "Epoch 8/10\n",
      "10/10 [==============================] - 0s 11ms/step - loss: 0.4077 - mae: 0.4077\n",
      "Epoch 9/10\n",
      "10/10 [==============================] - 0s 10ms/step - loss: 0.4095 - mae: 0.4095\n",
      "Epoch 10/10\n",
      "10/10 [==============================] - 0s 1ms/step - loss: 0.4028 - mae: 0.4028\n",
      "1/1 [==============================] - 0s 398ms/step - loss: 0.3028 - mae: 0.3028\n"
     ]
    },
    {
     "data": {
      "image/png": "[encoded data removed]",
      "text/plain": [
       "<Figure size 576x432 with 2 Axes>"
      ]
     },
     "metadata": {
      "needs_background": "light"
     },
     "output_type": "display_data"
    },
    {
     "name": "stdout",
     "output_type": "stream",
     "text": [
      "  Window    MAE R_squared Accuracy F1 Score\n",
      "0      0  0.259     0.177     0.75    0.745\n",
      "1      1  0.259    -0.319    0.583    0.592\n",
      "2      2   0.43    -0.406    0.583    0.598\n",
      "3      3  0.383    -1.222      0.5    0.486\n",
      "4      4  0.659    -2.968     0.25    0.213\n",
      "5      5  0.303      0.02    0.667    0.667\n"
     ]
    }
   ],
   "source": [
    "# Import tuned hyper-paramters\n",
    "hp_results = pd.read_csv(\"Final results/Hyper-parameter results/MLP Stock&Bond Features.csv\")\n",
    "\n",
    "# Years that will be removed from the data set (depending on the window)\n",
    "bottom_years = [\"1990\", \"1991\", \"1992\", \"1993\",\"1994\"]\n",
    "test_years = [\"2016\", \"2017\", \"2018\", \"2019\", \"2020\", \"2021\"]\n",
    "\n",
    "# Define table to store results\n",
    "result_mlp = pd.DataFrame(\n",
    "{\"Window\":              [None, None, None, None, None, None],\n",
    " \"MAE\":                 [None, None, None, None, None, None],\n",
    " \"R_squared\":           [None, None, None, None, None, None],\n",
    " \"Accuracy\":            [None, None, None, None, None, None],\n",
    " \"F1 Score\":            [None, None, None, None, None, None]\n",
    "})\n",
    "\n",
    "# Define np array to store actual and predicted weights\n",
    "weights_results = pd.DataFrame([[None] * 5] * 72, columns=['Date', 'Actual Stock Weight', 'Actual Bond Weight', 'Predicted Stock Weight', 'Predicted Bond Weight'])\n",
    "\n",
    "# Loop over each \n",
    "for window in range(6):\n",
    "    # Retrieve hyper-parameters for window\n",
    "    Window = hp_results.loc[window, ['Window']][0]\n",
    "    N_hidden_layers = hp_results.loc[window, ['N_hidden_layers']][0]\n",
    "    N_neurons_layer_1 = hp_results.loc[window, ['N_neurons_layer_1']][0]\n",
    "    N_neurons_layer_2 = hp_results.loc[window, ['N_neurons_layer_2']][0]\n",
    "    N_neurons_layer_3 = hp_results.loc[window, ['N_neurons_layer_3']][0]\n",
    "    Batch_normalization = hp_results.loc[window, ['Batch_normalization']][0]\n",
    "    Dropout_rate = hp_results.loc[window, ['Dropout_rate']][0]\n",
    "    Learning_rate = hp_results.loc[window, ['Learning_rate']][0]\n",
    "\n",
    "    # Exluce the bottom years in training set (depending on window)\n",
    "    exclude_bottom_years = bottom_years[0:window]\n",
    "    \n",
    "    # Exclude test years in training set (depending on window)\n",
    "    exclude_test_years = test_years[window:]\n",
    "    \n",
    "    # Merge years to exclude for training set (depending on window)\n",
    "    train_exclude= exclude_bottom_years + exclude_test_years\n",
    "\n",
    "    # Retrieve test year (depending on window)\n",
    "    test_year = test_years[window]\n",
    "   \n",
    "    # Get filtered data set \n",
    "    whole_train = df[~df['DATE'].str.contains('|'.join(train_exclude))]\n",
    "    whole_test = df[df['DATE'].str.contains(test_year)]\n",
    "\n",
    "    # Select right columns\n",
    "    X_train = whole_train.iloc[:, 4:]\n",
    "    y_train = whole_train.iloc[:, [1, 2]]\n",
    "    X_test = whole_test.iloc[:, 4:]\n",
    "    y_test = whole_test.iloc[:, [1, 2]]\n",
    "\n",
    "    # Extract results for each window\n",
    "    result_window = test_set(X_train=X_train, y_train=y_train, X_test=X_test, y_test=y_test, n_layers=N_hidden_layers, n_neurons_L1=N_neurons_layer_1,n_neurons_L2=N_neurons_layer_2, n_neurons_L3=N_neurons_layer_3, batch_normalization=Batch_normalization, dropout_rate=Dropout_rate, learning_rate=Learning_rate)\n",
    "    \n",
    "    # Assign results to table\n",
    "    result_mlp.at[window, \"Window\"] = window\n",
    "    result_mlp.at[window, \"MAE\"] = np.round(result_window[0], 3)\n",
    "    result_mlp.at[window, \"R_squared\"] = np.round(result_window[1], 3)\n",
    "\n",
    "    # Assign results to table\n",
    "    \n",
    "    dates = list(whole_test.loc[:, \"DATE\"])\n",
    "    weights_results.loc[window*12:(window*12+11), \"Date\"] = dates\n",
    "    stock_optimal = list(whole_test.loc[:, \"Stock index\"])\n",
    "    weights_results.loc[window*12:(window*12+11), \"Actual Stock Weight\"] = stock_optimal\n",
    "    bond_optimal = list(whole_test.loc[:, \"Bond Index\"])\n",
    "    weights_results.loc[window*12:(window*12+11), \"Actual Bond Weight\"] = bond_optimal\n",
    "    pred_stock = list(result_window[3][:, 0])\n",
    "    weights_results.loc[window*12:(window*12+11), \"Predicted Stock Weight\"] = pred_stock\n",
    "    pred_bond = list(result_window[3][:, 1])\n",
    "    weights_results.loc[window*12:(window*12+11), \"Predicted Bond Weight\"] = pred_bond\n",
    "    \n",
    "    # Rounc for classification results\n",
    "    round_actual = np.round(result_window[2]).values #convert to np array\n",
    "    round_pred = np.round(result_window[3])\n",
    "    row_matches = np.all(round_pred == round_actual, axis=1)\n",
    "\n",
    "    # Get accuracy and F1 score\n",
    "    y_pred = (round_pred > 0.5)\n",
    "    acc = accuracy_score(round_actual.argmax(axis=1), y_pred.argmax(axis=1))\n",
    "    result_mlp.at[window, \"Accuracy\"] = round(acc, 3)\n",
    "    f1 = f1_score(round_actual.argmax(axis=1), y_pred.argmax(axis=1), average='weighted')\n",
    "    result_mlp.at[window, \"F1 Score\"] = round(f1, 3)\n",
    "    \t\n",
    "    # Plot confusion matrix\n",
    "    cm = confusion_matrix(round_actual.argmax(axis=1), y_pred.argmax(axis=1))\n",
    "    plt.figure(figsize=(8, 6))\n",
    "    sns.heatmap(cm, annot=True, cmap='Blues', fmt='g')\n",
    "    plt.xlabel('Predicted labels')\n",
    "    plt.ylabel('True labels')\n",
    "    plt.title('Confusion Matrix')\n",
    "    plt.show()\n",
    "\n",
    "result_mlp.to_csv(\"Final results/Model results/MLP Stock&Bond Features.csv\")\n",
    "weights_results.to_csv(\"Final results/Weight results/MLP Stock&Bond Features.csv\")\n",
    "print(result_mlp)"
   ]
  },
  {
   "cell_type": "code",
   "execution_count": null,
   "id": "cf7438ab-a54d-43d0-bf0b-3e654f3e5567",
   "metadata": {},
   "outputs": [],
   "source": []
  }
 ],
 "metadata": {
  "kernelspec": {
   "display_name": "Python 3 (ipykernel)",
   "language": "python",
   "name": "python3"
  },
  "language_info": {
   "codemirror_mode": {
    "name": "ipython",
    "version": 3
   },
   "file_extension": ".py",
   "mimetype": "text/x-python",
   "name": "python",
   "nbconvert_exporter": "python",
   "pygments_lexer": "ipython3",
   "version": "3.9.7"
  }
 },
 "nbformat": 4,
 "nbformat_minor": 5
}
