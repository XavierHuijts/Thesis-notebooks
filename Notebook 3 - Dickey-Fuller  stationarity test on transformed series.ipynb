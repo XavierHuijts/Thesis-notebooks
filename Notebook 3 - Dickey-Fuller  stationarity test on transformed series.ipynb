{
 "cells": [
  {
   "cell_type": "markdown",
   "id": "489bf120-4abe-4205-bf77-4f3b25fde883",
   "metadata": {},
   "source": [
    "# Import Packages"
   ]
  },
  {
   "cell_type": "code",
   "execution_count": null,
   "id": "223e5d11-63e6-4c36-829b-b2f30b4e96bf",
   "metadata": {},
   "outputs": [],
   "source": [
    "import numpy as np\n",
    "import pandas as pd\n",
    "from statsmodels.tsa.stattools import adfuller"
   ]
  },
  {
   "cell_type": "markdown",
   "id": "b6711fee-7984-4899-a58d-00f70efeed3c",
   "metadata": {},
   "source": [
    "# Dickey-Fuller Starionary Test (daily and monthy)"
   ]
  },
  {
   "cell_type": "markdown",
   "id": "01811fcb-d97c-45f1-9854-4b0d0757ca7d",
   "metadata": {},
   "source": [
    "Stationary test for daily generated time-series"
   ]
  },
  {
   "cell_type": "code",
   "execution_count": 6,
   "id": "0aadc027-be0f-427b-ac20-b17b7419b0a6",
   "metadata": {},
   "outputs": [
    {
     "name": "stdout",
     "output_type": "stream",
     "text": [
      "Bond Index.csv \n",
      "\n",
      "method_1\n",
      "method_2\n",
      "method_3\n",
      "method_4\n",
      "Stock Index.csv \n",
      "\n",
      "method_1\n",
      "method_2\n",
      "method_3\n",
      "method_4\n",
      "Risk Free Rate.csv \n",
      "\n",
      "method_1\n",
      "method_2\n",
      "method_3\n",
      "Do nothing\n",
      "NIKKEI225.csv \n",
      "\n",
      "method_1\n",
      "method_2\n",
      "method_3\n",
      "method_4\n",
      "Crude Oil.csv \n",
      "\n",
      "method_1\n",
      "method_2\n",
      "method_3\n",
      "method_4\n",
      "USD to Pound.csv \n",
      "\n",
      "method_1\n",
      "method_2\n",
      "method_3\n",
      "method_4\n",
      "DGS2.csv \n",
      "\n",
      "method_1\n",
      "method_2\n",
      "method_3\n",
      "method_4\n",
      "DGS5.csv \n",
      "\n",
      "method_1\n",
      "method_2\n",
      "method_3\n",
      "method_4\n",
      "DGS10.csv \n",
      "\n",
      "method_1\n",
      "method_2\n",
      "method_3\n",
      "method_4\n",
      "T10Y3M.csv \n",
      "\n",
      "method_1\n",
      "method_2\n",
      "method_3\n",
      "Do nothing\n",
      "TEDRATE.csv \n",
      "\n",
      "method_1\n",
      "method_2\n",
      "method_3\n",
      "method_4\n"
     ]
    }
   ],
   "source": [
    "methods = [\"method_1\", \"method_2\", \"method_3\", \"method_4\"]\n",
    "n_methods = len(methods)\n",
    "\n",
    "files_daily = [\"Bond Index.csv\", \"Stock Index.csv\", \"Risk Free Rate.csv\", \"NIKKEI225.csv\", \"Crude Oil.csv\", \"USD to Pound.csv\", \"DGS2.csv\", \"DGS5.csv\", \"DGS10.csv\", \"T10Y3M.csv\", \"TEDRATE.csv\"]\n",
    "n_files = len(files_daily)\n",
    "\n",
    "p_values = np.zeros((n_methods, n_files))\n",
    "t_statistics = np.zeros((n_methods, n_files))\n",
    "\n",
    "for file_name, column in zip(files_daily, range(n_files)):\n",
    "    df = pd.read_csv(\"Generated series/Daily/\" + file_name)\n",
    "    print( \"\\n\", file_name)\n",
    "    for method, row in zip(methods, range(n_files)):\n",
    "        if file_name in [\"Risk Free Rate.csv\",  \"T10Y3M.csv\"] and method in [\"method_4\", \"method_5\"]:\n",
    "            print(\"Do nothing\")\n",
    "        else:\n",
    "            series = df[method] \n",
    "            series = series[1:]\n",
    "            result = adfuller(series)\n",
    "            t_statistics[row, column] = result[0]\n",
    "            p_values[row, column] = result[1]\n",
    "            print(method)"
   ]
  },
  {
   "cell_type": "markdown",
   "id": "cd05ec59-6e8f-4b12-b8c3-4a5e945a29f4",
   "metadata": {},
   "source": [
    "Extract the t-statistic and p-value results (for daily series)"
   ]
  },
  {
   "cell_type": "code",
   "execution_count": 7,
   "id": "83d750a9-64cd-45a7-8a77-8d5e3444fcb7",
   "metadata": {},
   "outputs": [],
   "source": [
    "df_p_values = pd.DataFrame(p_values, columns=files_daily, index=methods)\n",
    "df_p_values.to_csv(\"Dickey-Fuller Results/Daily P-value Results.csv\")\n",
    "\n",
    "df_t_statistics = pd.DataFrame(t_statistics, columns=files_daily, index=methods)\n",
    "df_t_statistics.to_csv(\"Dickey-Fuller Results/Daily T-statistics Results.csv\")"
   ]
  },
  {
   "cell_type": "markdown",
   "id": "d72077e8-2c86-49a9-b8ab-244389be08a1",
   "metadata": {},
   "source": [
    "Stationary test for monthly generated time-series"
   ]
  },
  {
   "cell_type": "code",
   "execution_count": 17,
   "id": "0b8d0e74-3003-4cf2-b923-1874c61bf842",
   "metadata": {},
   "outputs": [
    {
     "name": "stdout",
     "output_type": "stream",
     "text": [
      "\n",
      " CPIAUCNS yoy.csv\n",
      "method_1\n",
      "method_2\n",
      "method_3\n",
      "Do nothing\n",
      "\n",
      " CSUSHPISA yoy.csv\n",
      "method_1\n",
      "method_2\n",
      "method_3\n",
      "Do nothing\n",
      "\n",
      " IQ yoy.csv\n",
      "method_1\n",
      "method_2\n",
      "method_3\n",
      "Do nothing\n",
      "\n",
      " IR yoy.csv\n",
      "method_1\n",
      "method_2\n",
      "method_3\n",
      "Do nothing\n",
      "\n",
      " MICH.csv\n",
      "method_1\n",
      "method_2\n",
      "method_3\n",
      "method_4\n",
      "\n",
      " PPIACO yoy.csv\n",
      "method_1\n",
      "method_2\n",
      "method_3\n",
      "Do nothing\n",
      "\n",
      " INDPRO.csv\n",
      "method_1\n",
      "method_2\n",
      "method_3\n",
      "method_4\n",
      "\n",
      " PSAVERT.csv\n",
      "method_1\n",
      "method_2\n",
      "method_3\n",
      "method_4\n"
     ]
    }
   ],
   "source": [
    "methods = [\"method_1\", \"method_2\", \"method_3\", \"method_4\"]\n",
    "n_methods = len(methods)\n",
    "\n",
    "files_monthly = [\"CPIAUCNS yoy.csv\", \"CSUSHPISA yoy.csv\", \"IQ yoy.csv\", \"IR yoy.csv\", \"MICH.csv\", \"PPIACO yoy.csv\",  \"INDPRO.csv\", \"PSAVERT.csv\"]\n",
    "n_files = len(files_monthly)\n",
    "\n",
    "t_statistics = np.zeros((n_methods, n_files))\n",
    "p_values = np.zeros((n_methods, n_files))\n",
    "\n",
    "for file_name, column in zip(files_monthly, range(n_files)):\n",
    "    df = pd.read_csv(\"Generated series/Monthly/\" + file_name)\n",
    "    print(\"\\n\", file_name)\n",
    "    for method, row in zip(methods, range(n_files)):\n",
    "        if file_name in [\"CPIAUCNS yoy.csv\", \"CSUSHPISA yoy.csv\", \"IQ yoy.csv\", \"IR yoy.csv\", \"PPIACO yoy.csv\"] and method == \"method_4\":\n",
    "            print(\"Do nothing\")\n",
    "        else:\n",
    "            series = df[method] \n",
    "            series = series[1:]\n",
    "            result = adfuller(series)\n",
    "            t_statistics[row, column] = result[0]\n",
    "            p_values[row, column] = result[1]\n",
    "            print(method)"
   ]
  },
  {
   "cell_type": "markdown",
   "id": "d1401a1f-0ee4-4e7c-a63c-2c968ee5d27d",
   "metadata": {},
   "source": [
    "Extract the t-statistic and p-value results (for monthly series)"
   ]
  },
  {
   "cell_type": "code",
   "execution_count": 18,
   "id": "da67c635-8f06-4ce3-89f3-33ce5f1cc4e4",
   "metadata": {},
   "outputs": [],
   "source": [
    "df_p_values = pd.DataFrame(p_values, columns=files_monthly, index=methods)\n",
    "df_p_values.to_csv(\"Dickey-Fuller Results/Monthly P-value Results.csv\")\n",
    "\n",
    "df_t_statistics = pd.DataFrame(t_statistics, columns=files_monthly, index=methods)\n",
    "df_t_statistics.to_csv(\"Dickey-Fuller Results/Monthly T-statistics Results.csv\")"
   ]
  }
 ],
 "metadata": {
  "kernelspec": {
   "display_name": "Python 3 (ipykernel)",
   "language": "python",
   "name": "python3"
  },
  "language_info": {
   "codemirror_mode": {
    "name": "ipython",
    "version": 3
   },
   "file_extension": ".py",
   "mimetype": "text/x-python",
   "name": "python",
   "nbconvert_exporter": "python",
   "pygments_lexer": "ipython3",
   "version": "3.9.7"
  }
 },
 "nbformat": 4,
 "nbformat_minor": 5
}
