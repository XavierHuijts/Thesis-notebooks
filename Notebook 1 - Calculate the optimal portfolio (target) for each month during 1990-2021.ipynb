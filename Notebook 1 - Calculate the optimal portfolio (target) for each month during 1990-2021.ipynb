{
 "cells": [
  {
   "cell_type": "markdown",
   "id": "16a09669-a2fd-4e45-a70a-105d82fa1186",
   "metadata": {},
   "source": [
    "# Import packages"
   ]
  },
  {
   "cell_type": "code",
   "execution_count": null,
   "id": "8f367048-3dcb-45e9-89d9-690aa6cef3d9",
   "metadata": {},
   "outputs": [],
   "source": [
    "import numpy as np\n",
    "import pandas as pd\n",
    "import statistics  "
   ]
  },
  {
   "cell_type": "markdown",
   "id": "c699f360-ffb7-4419-874e-ab8cca54c36c",
   "metadata": {
    "tags": []
   },
   "source": [
    "# Create Matrix of Portfolio Weights"
   ]
  },
  {
   "cell_type": "code",
   "execution_count": null,
   "id": "5645cc3e-1a30-4442-b955-9d5afcbaed2c",
   "metadata": {},
   "outputs": [],
   "source": [
    "# Number of assets: 2\n",
    "# Step size: 1%  (first weights: [100%, 0%], second weights: [99%, 1%] etc.)\n",
    "\n",
    "def portfolio_weights():\n",
    "    # Matrix of weights\n",
    "    weights = np.array([])\n",
    "    step_size = 1\n",
    "    \n",
    "    for a in range(0, 101, step_size):\n",
    "        for b in range(0, 101, step_size):\n",
    "            if (a+b) != 100:\n",
    "                continue\n",
    "            else:\n",
    "                weights = np.append(weights, [b, a])\n",
    "    \n",
    "    length = weights.shape[0]/2\n",
    "    weights = weights.reshape((int(length), 2))\n",
    "    return weights"
   ]
  },
  {
   "cell_type": "markdown",
   "id": "4377f5a5-e948-4f5b-ba2b-abc2e3fa54d5",
   "metadata": {},
   "source": [
    "# Return best portfolio for 1 month (based on the Sharpe ratio)"
   ]
  },
  {
   "cell_type": "code",
   "execution_count": null,
   "id": "fd289777-d829-49c3-978d-cc20f2f679a3",
   "metadata": {},
   "outputs": [],
   "source": [
    "def best_portfolio_for_one_month(weights, mr_rfr, mr_stock, mr_bond, dr_stock, dr_bond):\n",
    "    weights = weights/100\n",
    "    # Initialize\n",
    "    p_max_sharpe = -1000\n",
    "    p_max_return = -1000\n",
    "    # Create vector to store 'best' portfolio results\n",
    "    best_p_results = np.zeros(14)    \n",
    "    for w in weights:\n",
    "        new_return = w[0]*mr_stock + w[1]*mr_bond\n",
    "        # Store daily portfolio returns\n",
    "        p_dr = []\n",
    "        # Retrieve daily portfolio returns \n",
    "        for stock, bond in zip(dr_stock, dr_bond):\n",
    "            p_dr.append(w[0]*stock + w[1]*bond)\n",
    "        # Calculate pportfolio risk by taking the st. dev over the daily p returns\n",
    "        new_risk = statistics.stdev(p_dr) * np.sqrt(len(p_dr))\n",
    "        # Convert annual rate to monhtly rate\n",
    "        mr_rfr = (1 + mr_rfr) ** (1/12) - 1\n",
    "        new_sharpe = (new_return - mr_rfr) / new_risk            \n",
    "        if new_sharpe > p_max_sharpe:\n",
    "            best_p_results[0] = w[0]\n",
    "            best_p_results[1] = w[1]\n",
    "            best_p_results[2] = new_return\n",
    "            best_p_results[3] = new_risk\n",
    "            best_p_results[4] = new_sharpe \n",
    "            p_max_sharpe = new_sharpe\n",
    "            \n",
    "            \n",
    "        '''The rest in the below is not used or needed for the thesis, \n",
    "        but interested for me to do some additional analysis'''\n",
    "        \n",
    "        best_p_results[5] = mr_stock\n",
    "        best_p_results[6] = mr_bond        \n",
    "        best_p_results[7] = mr_rfr\n",
    "        if mr_stock > mr_bond:\n",
    "            best_p_results[8] = 1\n",
    "        elif mr_stock == mr_bond:\n",
    "            best_p_results[8] = 2\n",
    "        else:\n",
    "            best_p_results[8] = 0\n",
    "        # Risk adjusted returns\n",
    "        stock_risk = statistics.variance(dr_stock)\n",
    "        bond_risk = statistics.variance(dr_bond)\n",
    "        stock_rar = mr_stock/stock_risk\n",
    "        bond_rar = mr_bond/bond_risk\n",
    "        best_p_results[9] = stock_rar\n",
    "        best_p_results[10] = bond_rar\n",
    "        if stock_rar > bond_rar:\n",
    "            best_p_results[11] = 1\n",
    "        elif stock_rar == bond_rar:\n",
    "            best_p_results[11] = 2\n",
    "        else:\n",
    "            best_p_results[11] = 0\n",
    "        # Add results for Equally Weighted and the 60/40 portfolios\n",
    "        best_p_results[12] = (0.5*mr_stock+0.5*mr_bond)\n",
    "        best_p_results[13] = (0.6*mr_stock+0.4*mr_bond)\n",
    "\n",
    "    return best_p_results"
   ]
  },
  {
   "cell_type": "markdown",
   "id": "69eda0fc-c123-47dd-9939-eefbfe1e37a6",
   "metadata": {},
   "source": [
    "# Create list of monthly dates"
   ]
  },
  {
   "cell_type": "code",
   "execution_count": null,
   "id": "5074cb65-e133-4dd6-82c1-7c8b1ac62215",
   "metadata": {},
   "outputs": [],
   "source": [
    "def list_monthly_dates(first_year, last_year):\n",
    "    # Gather each yyyy-mm\n",
    "    all_dates = []\n",
    "    # Loop over each yyyy-mm\n",
    "    for year in range(first_year, last_year+1):\n",
    "        for month in range(1, 12+1):\n",
    "            if len(str(month)) == 2:\n",
    "                date = f\"{month}/{year}\"\n",
    "                all_dates.append(date)\n",
    "            else:\n",
    "                date = f\"0{month}/{year}\"\n",
    "                all_dates.append(date)\n",
    "    return all_dates"
   ]
  },
  {
   "cell_type": "markdown",
   "id": "1912fcd3-eb7f-4fcf-b14a-e634fdb6731c",
   "metadata": {},
   "source": [
    "# Retrieve best portfolio for each month"
   ]
  },
  {
   "cell_type": "code",
   "execution_count": null,
   "id": "99a06de7-622b-4383-8723-c4bd256a3f21",
   "metadata": {},
   "outputs": [],
   "source": [
    "#dr_file = file with daily returns for all asset classes\n",
    "#mr_file = file with monthly returns for all asset classes\n",
    "def all_best_portfolios(first_year, last_year, mr_rfr, mr_stock, mr_bond, dr_stock, dr_bond): \n",
    "    # Import weights\n",
    "    weights = portfolio_weights()\n",
    "    \n",
    "    # Import return data\n",
    "    mr_rfr = pd.read_csv('Index & RFR Data/' + mr_rfr)       # Monthly RFR returns\n",
    "    mr_stock = pd.read_csv('Index & RFR Data/' + mr_stock)   # Monthly Stock returns\n",
    "    mr_bond = pd.read_csv('Index & RFR Data/' + mr_bond)     # Monthly Bond returns\n",
    "    dr_stock = pd.read_csv('Index & RFR Data/' + dr_stock)   # Daily Stock returns\n",
    "    dr_bond = pd.read_csv('Index & RFR Data/' + dr_bond)     # Daily Bond returns\n",
    "\n",
    "    # List of dates: mm-yyyy \n",
    "    dates = list_monthly_dates(first_year, last_year)\n",
    "    \n",
    "    # Store best portfolios\n",
    "    all_results = np.zeros((len(dates), 15))   \n",
    "    \n",
    "    month = 0\n",
    "    for mm_yyyy in dates:\n",
    "        # Retrieve monthly returns for month yyyy-mm\n",
    "        fil_mr_rfr = mr_rfr.loc[mr_rfr['DATE'].str.contains(mm_yyyy), 'Value'].values[0]\n",
    "        fil_mr_stock = mr_stock.loc[mr_stock['DATE'].str.contains(mm_yyyy), 'Value'].values[0]\n",
    "        fil_mr_bond = mr_bond.loc[mr_bond['DATE'].str.contains(mm_yyyy), 'Value'].values[0]\n",
    "        # Retrieve dailly returns for month yyyy_mm\n",
    "        fil_dr_stock = dr_stock[dr_stock['DATE'].str.contains(mm_yyyy)]\n",
    "        fil_dr_bond = dr_bond[dr_bond['DATE'].str.contains(mm_yyyy)]\n",
    "        fil_dr_stock = fil_dr_stock['Value'].tolist()\n",
    "        fil_dr_bond = fil_dr_bond['Value'].tolist()\n",
    "\n",
    "        # Return best portfolio for month yyyy-mm\n",
    "        result = best_portfolio_for_one_month(weights=weights, mr_rfr=fil_mr_rfr, mr_stock=fil_mr_stock, mr_bond=fil_mr_bond, dr_stock=fil_dr_stock, dr_bond=fil_dr_bond)\n",
    "\n",
    "        # Store results\n",
    "        all_results[month, [0]] = month + 1  # Store month at first column\n",
    "        all_results[month, 1:] = result # Store results\n",
    "        month += 1\n",
    "        print(mm_yyyy)\n",
    "\n",
    "\n",
    "    # Return vector of all results    \n",
    "    column_names = [\"Month\", \"W_Stock\", \"W_Bond\", \"Portfolio Return\", \"Portfolio St. Dev\", \"Portfolio Sharpe Ratio\", \"Stock Index Return\", \"Bond Index Return\", \"RFR Return\", \"Max Return\", \"Risk Adjusted Return Stock Index\",\"Risk Adjusted Return Bond Index\", \"Best Risk Adjusted Return\", \"Equally Weighted Portfolio\", \"60%/40% Portfolio\"]\n",
    "    \n",
    "    # Convert to a DataFrame\n",
    "    all_results = pd.DataFrame(all_results, columns=column_names, index=dates)\n",
    "\n",
    "    # Concatenate the DataFrames along the columns axis (axis=1)\n",
    "    all_results.to_csv('Retrieved Best Portfolio Weights and Statistics.csv', index=True)\n",
    "    return all_results"
   ]
  },
  {
   "cell_type": "markdown",
   "id": "9b25dfd6-6d05-4352-8aa5-e3b8b91ba58e",
   "metadata": {},
   "source": [
    "# Call function"
   ]
  },
  {
   "cell_type": "code",
   "execution_count": null,
   "id": "1cba94bd-93e1-4fd6-a8e4-504c4e479fcf",
   "metadata": {},
   "outputs": [],
   "source": [
    "all_best_portfolios(first_year=1990, last_year=2021, mr_rfr=\"3M T-Bill Monthly Data.csv\", mr_stock=\"Stock Index Monthly Data.csv\", mr_bond=\"Bond Index Monthly Data.csv\", dr_stock=\"Stock Index Daily Data.csv\", dr_bond=\"Bond Index Daily Data.csv\")"
   ]
  }
 ],
 "metadata": {
  "kernelspec": {
   "display_name": "Python 3 (ipykernel)",
   "language": "python",
   "name": "python3"
  },
  "language_info": {
   "codemirror_mode": {
    "name": "ipython",
    "version": 3
   },
   "file_extension": ".py",
   "mimetype": "text/x-python",
   "name": "python",
   "nbconvert_exporter": "python",
   "pygments_lexer": "ipython3",
   "version": "3.9.7"
  }
 },
 "nbformat": 4,
 "nbformat_minor": 5
}
