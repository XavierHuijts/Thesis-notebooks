{
 "cells": [
  {
   "cell_type": "markdown",
   "id": "544f4c14-7a46-49f3-aa6d-6bc12ef87273",
   "metadata": {},
   "source": [
    "# Import packages"
   ]
  },
  {
   "cell_type": "code",
   "execution_count": 1,
   "id": "59bbfa3a-4fe3-400c-95a7-1e7a2c86a050",
   "metadata": {},
   "outputs": [],
   "source": [
    "import pandas as pd\n",
    "import numpy as np\n",
    "import tensorflow as tf\n",
    "import keras_tuner as kt\n",
    "from tensorflow import keras\n",
    "from tensorflow.keras.models import Sequential\n",
    "from keras.layers import SimpleRNN \n",
    "from tensorflow.keras.layers import Dense, BatchNormalization, Dropout\n",
    "from sklearn.metrics import r2_score\n",
    "from sklearn.preprocessing import StandardScaler\n",
    "from sklearn.metrics import confusion_matrix, accuracy_score, f1_score\n",
    "import matplotlib.pyplot as plt\n",
    "import seaborn as sns"
   ]
  },
  {
   "cell_type": "markdown",
   "id": "53933e72-a5eb-4c14-8639-354c8d816be7",
   "metadata": {},
   "source": [
    "# Stock & Bond data features"
   ]
  },
  {
   "cell_type": "code",
   "execution_count": 2,
   "id": "4a759552-c20c-4927-a2fa-4564c32f3a5e",
   "metadata": {},
   "outputs": [
    {
     "name": "stdout",
     "output_type": "stream",
     "text": [
      "Feature 1: Mean (S&P500)\n",
      "Feature 2: Standard dev. (S&P500)\n",
      "Feature 3: Kurtosis (S&P500)\n",
      "Feature 4: Skew (S&P500)\n",
      "Feature 5: 25th percentile (S&P500)\n",
      "Feature 6: 75th percentile (S&P500)\n",
      "Feature 7: Mean (BAMLCC0A1AAATRIV)\n",
      "Feature 8: Standard dev. (BAMLCC0A1AAATRIV)\n",
      "Feature 9: Kurtosis (BAMLCC0A1AAATRIV)\n",
      "Feature 10: Skew (BAMLCC0A1AAATRIV)\n",
      "Feature 11: 25th percentile (BAMLCC0A1AAATRIV)\n",
      "Feature 12: 75th percentile (BAMLCC0A1AAATRIV)\n"
     ]
    }
   ],
   "source": [
    "stock_and_bond_features = ['Mean (S&P500)', 'Standard dev. (S&P500)', 'Kurtosis (S&P500)', \n",
    "                           'Skew (S&P500)', '25th percentile (S&P500)', \n",
    "                           '75th percentile (S&P500)', 'Mean (BAMLCC0A1AAATRIV)', \n",
    "                           'Standard dev. (BAMLCC0A1AAATRIV)', 'Kurtosis (BAMLCC0A1AAATRIV)',\n",
    "                           'Skew (BAMLCC0A1AAATRIV)', '25th percentile (BAMLCC0A1AAATRIV)',\n",
    "                            '75th percentile (BAMLCC0A1AAATRIV)']\n",
    "\n",
    "for feature, i in zip(stock_and_bond_features, range(1, len(stock_and_bond_features)+1)):\n",
    "    print(f\"Feature {i}: {feature}\")"
   ]
  },
  {
   "cell_type": "markdown",
   "id": "a2749e5e-582d-4679-9401-2f7a65cb06b1",
   "metadata": {},
   "source": [
    "# Prepare data set"
   ]
  },
  {
   "cell_type": "code",
   "execution_count": 3,
   "id": "668018c6-1c37-4599-89f8-825a00f7bcbd",
   "metadata": {},
   "outputs": [
    {
     "name": "stdout",
     "output_type": "stream",
     "text": [
      "           DATE  Stock index  Bond Index DATE Features  Mean (S&P500)\n",
      "0    01/03/1990         0.70        0.30    01/02/1990       0.000481\n",
      "1    01/04/1990         0.98        0.02    01/03/1990       0.000950\n",
      "2    01/05/1990         0.30        0.70    01/04/1990      -0.001379\n",
      "3    01/06/1990         0.00        1.00    01/05/1990       0.003997\n",
      "4    01/07/1990         0.00        1.00    01/06/1990      -0.000504\n",
      "..          ...          ...         ...           ...            ...\n",
      "377  01/08/2021         0.99        0.01    01/07/2021       0.001138\n",
      "378  01/09/2021         0.00        1.00    01/08/2021       0.001292\n",
      "379  01/10/2021         0.65        0.35    01/09/2021      -0.002278\n",
      "380  01/11/2021         0.00        1.00    01/10/2021       0.003169\n",
      "381  01/12/2021         0.67        0.33    01/11/2021      -0.000502\n",
      "\n",
      "[382 rows x 5 columns]\n"
     ]
    },
    {
     "data": {
      "text/plain": [
       "'\\nThere are two columns with dates, as one functions for the target (see column 0: DATE) at time t+1, and the other (see column 4: DATE Features) for the feature date at time t.\\n'"
      ]
     },
     "execution_count": 3,
     "metadata": {},
     "output_type": "execute_result"
    }
   ],
   "source": [
    "# Extracted features & name date columns\n",
    "df = pd.read_csv(\"files/Monthly Extracted Features.csv\")\n",
    "df.columns.array[0] = 'DATE Features'\n",
    "# Add date columns to list with feature names\n",
    "stock_and_bond_features.insert(0, 'DATE Features')\n",
    "\n",
    "# Extract date column and Bond/Stock features\n",
    "features = df[stock_and_bond_features]\n",
    "features = features.drop(0)                       # Drop first row\n",
    "features = features.drop(features.index[-1])      # Drop last row\n",
    "features = features.reset_index(drop=True)\n",
    "\n",
    "# Add target to feature DF\n",
    "target = pd.read_csv(\"files/Target.csv\")\n",
    "complete_set = pd.concat([target, features], axis=1)\n",
    "complete_set['DATE Features'] = pd.to_datetime('01/' + complete_set['DATE Features'], format='%d/%m/%Y')\n",
    "complete_set['DATE Features'] = complete_set['DATE Features'].dt.strftime('%d/%m/%Y')\n",
    "print(complete_set.iloc[:, :5])\n",
    "\n",
    "'''\n",
    "There are two columns with dates, as one functions for the target (see column 0: DATE) at time t+1, and the other (see column 4: DATE Features) for the feature date at time t.\n",
    "'''"
   ]
  },
  {
   "cell_type": "markdown",
   "id": "80b0e89e-b8c6-45b1-a5be-1f8d7224ef93",
   "metadata": {},
   "source": [
    "# Standardize features"
   ]
  },
  {
   "cell_type": "code",
   "execution_count": 4,
   "id": "0efc279d-b4da-4209-bfe9-417539495a4f",
   "metadata": {},
   "outputs": [
    {
     "name": "stdout",
     "output_type": "stream",
     "text": [
      "Shape: (382, 16)\n",
      "\n",
      "           DATE  Stock index  Bond Index DATE Features  Mean (S&P500)\n",
      "0    01/03/1990         0.70        0.30    01/02/1990       0.085107\n",
      "1    01/04/1990         0.98        0.02    01/03/1990       0.307364\n",
      "2    01/05/1990         0.30        0.70    01/04/1990      -0.797052\n",
      "3    01/06/1990         0.00        1.00    01/05/1990       1.753057\n",
      "4    01/07/1990         0.00        1.00    01/06/1990      -0.382107\n",
      "..          ...          ...         ...           ...            ...\n",
      "377  01/08/2021         0.99        0.01    01/07/2021       0.396853\n",
      "378  01/09/2021         0.00        1.00    01/08/2021       0.469964\n",
      "379  01/10/2021         0.65        0.35    01/09/2021      -1.223920\n",
      "380  01/11/2021         0.00        1.00    01/10/2021       1.360335\n",
      "381  01/12/2021         0.67        0.33    01/11/2021      -0.381417\n",
      "\n",
      "[382 rows x 5 columns]\n"
     ]
    }
   ],
   "source": [
    "df = complete_set\n",
    "\n",
    "# Separate the years, target columns, and features\n",
    "years = df.iloc[:, 3]\n",
    "target_columns = df.iloc[:, 1:3]\n",
    "features = df.iloc[:, 4:]\n",
    "\n",
    "# Identify the indices corresponding to the training and test periods\n",
    "train_indices = (pd.to_datetime(years, format='%d/%m/%Y') >= '1990-01-01') & (pd.to_datetime(years, format='%d/%m/%Y') <= '2010-12-31')\n",
    "valid_and_test_indices = (pd.to_datetime(years, format='%d/%m/%Y') >= '2011-01-01') & (pd.to_datetime(years, format='%d/%m/%Y') <= '2021-12-31')\n",
    "\n",
    "# Extract the training and test features\n",
    "X_train = features[train_indices]\n",
    "X_valid_and_test = features[valid_and_test_indices]\n",
    "\n",
    "# Calculate mean and standard deviation using only the training data\n",
    "mean_train = X_train.mean(axis=0)\n",
    "std_train = X_train.std(axis=0)\n",
    "\n",
    "# Standardize the training and test features using the training statistics\n",
    "scaler = StandardScaler()\n",
    "X_train_scaled = scaler.fit_transform(X_train)\n",
    "X_valid_and_test_scaled = scaler.transform(X_valid_and_test)\n",
    "\n",
    "# Replace the original feature columns with the standardized ones\n",
    "df.iloc[train_indices, 4:] = X_train_scaled\n",
    "df.iloc[valid_and_test_indices, 4:] = X_valid_and_test_scaled\n",
    "print(f\"Shape: {df.shape}\\n\")\n",
    "print(df.iloc[:, :5])\n",
    "df.to_csv(\"files/Standardized features (Bond&Stock data).csv\")"
   ]
  },
  {
   "cell_type": "markdown",
   "id": "49ba0c01-1832-486d-aba0-74de6cdf8a7f",
   "metadata": {},
   "source": [
    "# SRNN: tune hyper-parameters for one window"
   ]
  },
  {
   "cell_type": "markdown",
   "id": "1de17ff7-7ac1-474f-9afd-fab8ae0fbd99",
   "metadata": {},
   "source": [
    "SRNN: tune hyper-parameters for one window\n",
    "\n",
    "- Each layer can have a unique number of neurons. \n",
    "- The dropout rate is the same in each hidden layer\n",
    "- Batch normalization occurs after each hidden layer or does not occur at all\n"
   ]
  },
  {
   "cell_type": "code",
   "execution_count": 12,
   "id": "ffdb5a94-9b3e-4f7d-b801-c19385e343ae",
   "metadata": {},
   "outputs": [],
   "source": [
    "# Set the seed for reproducibility\n",
    "seed_value = 42\n",
    "np.random.seed(seed_value)\n",
    "tf.random.set_seed(seed_value)\n",
    "\n",
    "def optimize_hyperparameters(X_train, y_train, X_val, y_val):\n",
    "    def build_model(hp):\n",
    "\n",
    "        model = Sequential()\n",
    "        \n",
    "        # Input layer & first hidden layer\n",
    "        model.add(SimpleRNN(units=hp.Choice('N_neurons_layer_1', values=[8, 16, 32, 64, 128]), input_shape=(12, 1), activation = 'tanh'))\n",
    "        model.add(Dropout(hp.Choice('Dropout_rate', values=[0.0, 0.25, 0.5])))\n",
    "        if hp.Choice('Batch_normalization', values=[True, False]):\n",
    "            model.add(BatchNormalization())\n",
    "\n",
    "        # Minimum of 2 and maximum of 3 hidden layers\n",
    "        n_hidden_layers = hp.Choice('N_hidden_layers', values=[2, 3])\n",
    "        \n",
    "        # Layer 2\n",
    "        if n_hidden_layers == 2:\n",
    "            model.add(Dense(units=hp.Choice('N_neurons_layer_2', values=[8, 16, 32, 64, 128]), activation='relu'))\n",
    "            model.add(Dropout(hp.Choice('Dropout_rate',  values=[0.0, 0.25, 0.5])))\n",
    "            if hp.Choice('Batch_normalization', values=[True, False]):\n",
    "                model.add(BatchNormalization())    \n",
    "        else:\n",
    "            # Layer 2\n",
    "            model.add(Dense(units=hp.Choice('N_neurons_layer_2', values=[8, 16, 32, 64, 128]), activation='relu'))\n",
    "            model.add(Dropout(hp.Choice('Dropout_rate',  values=[0.0, 0.25, 0.5])))\n",
    "            if hp.Choice('Batch_normalization', values=[True, False]):\n",
    "                model.add(BatchNormalization())\n",
    "                                    \n",
    "            # Layer 3\n",
    "            model.add(Dense(units=hp.Choice('N_neurons_layer_3', values=[8, 16, 32, 64, 128]), activation='relu'))\n",
    "            model.add(Dropout(hp.Choice('Dropout_rate',  values=[0.0, 0.25, 0.5])))\n",
    "            if hp.Choice('Batch_normalization', values=[True, False]):\n",
    "                model.add(BatchNormalization())\n",
    "\n",
    "                \n",
    "        # Output: weight_stock_index & weight_bond_index\n",
    "        model.add(Dense(units=2, activation='softmax'))\n",
    "\n",
    "        # Learning rate can be the learning rate or either one level below or above the learning rate\n",
    "        lr = hp.Choice('Learning_rate', values=[0.01, 0.0001, 0.001])\n",
    "        optimizer = keras.optimizers.Adam(learning_rate=lr)\n",
    "\n",
    "        # Compile model\n",
    "        model.compile(optimizer=optimizer, loss='mean_absolute_error', metrics=['mean_absolute_error'])\n",
    "\n",
    "        return model\n",
    "\n",
    "    # The BayesianOptimization tuner is selected\n",
    "    tuner = kt.RandomSearch(\n",
    "        build_model,\n",
    "        objective=kt.Objective('val_mean_absolute_error', direction='min'),\n",
    "        max_trials=100,\n",
    "        seed=42,\n",
    "        tune_new_entries=True,\n",
    "        allow_new_entries=True,\n",
    "        max_retries_per_trial=0,\n",
    "        max_consecutive_failed_trials=3,\n",
    "        overwrite= True)\n",
    "        \n",
    "    # Perform the hyperparameter search\n",
    "    tuner.search(x=X_train,\n",
    "                 y=y_train,\n",
    "                 epochs=10,\n",
    "                 batch_size=32,\n",
    "                 validation_data=(X_val, y_val))\n",
    "\n",
    "     # Get the best hyperparameters and the best trial\n",
    "    best_trial = tuner.oracle.get_best_trials(num_trials=1)[0]\n",
    "    best_hyperparameters = best_trial.hyperparameters\n",
    "\n",
    "    return best_hyperparameters.values"
   ]
  },
  {
   "cell_type": "markdown",
   "id": "1a3ff0e8-68a0-4a8a-99ae-261fbe9aa16a",
   "metadata": {},
   "source": [
    "# MLP: call function for each window to extract tuned hyper-parameters"
   ]
  },
  {
   "cell_type": "code",
   "execution_count": 13,
   "id": "7abeb56b-25c6-4bd0-b0d6-b821934f15a4",
   "metadata": {},
   "outputs": [
    {
     "name": "stdout",
     "output_type": "stream",
     "text": [
      "Trial 100 Complete [00h 00m 04s]\n",
      "val_mean_absolute_error: 0.3389863967895508\n",
      "\n",
      "Best val_mean_absolute_error So Far: 0.305557519197464\n",
      "Total elapsed time: 00h 07m 53s\n",
      "  Window N_hidden_layers N_neurons_layer_1 N_neurons_layer_2  \\\n",
      "0      0               3                 8                 8   \n",
      "1      1               2                64               128   \n",
      "2      2               2                16                 8   \n",
      "3      3               2                32                32   \n",
      "4      4               2                32                16   \n",
      "5      5               3               128                64   \n",
      "\n",
      "  N_neurons_layer_3 Batch_normalization Dropout_rate Learning_rate   MAE  \n",
      "0                16                   1          0.0          0.01  None  \n",
      "1              None                   1          0.0        0.0001  None  \n",
      "2              None                   1          0.0         0.001  None  \n",
      "3              None                   1          0.5         0.001  None  \n",
      "4              None                   0         0.25         0.001  None  \n",
      "5                64                   1         0.25         0.001  None  \n"
     ]
    }
   ],
   "source": [
    "# Pre-define table for hyper-parameter results\n",
    "hp_results = pd.DataFrame(\n",
    "    {\"Window\":                 [None, None, None, None, None, None],\n",
    "     \"N_hidden_layers\":        [None, None, None, None, None, None],\n",
    "     \"N_neurons_layer_1\":      [None, None, None, None, None, None],\n",
    "     \"N_neurons_layer_2\":      [None, None, None, None, None, None],\n",
    "     \"N_neurons_layer_3\":      [None, None, None, None, None, None],\n",
    "     \"Batch_normalization\":    [None, None, None, None, None, None],\n",
    "     \"Dropout_rate\":           [None, None, None, None, None, None],\n",
    "     \"Learning_rate\":          [None, None, None, None, None, None],\n",
    "     \"MAE\":                    [None, None, None, None, None, None]\n",
    "    })\n",
    "\n",
    "# Date (column 1), target (column B & C), Sharpe ratio (Column D), & features (column E & onwards)\n",
    "exclude_bottom = ['1990', '1991', '1992', '1993', '1994']\n",
    "exclude_top = ['2016', '2017', '2018', '2019', '2020', '2021']\n",
    "validation_years = ['2011', '2012', '2013', '2014', '2015', '2016', '2017', '2018', '2019', '2020']\n",
    "\n",
    "start_year_validation = 0\n",
    "end_year_validation = 5\n",
    "for window in range(6):\n",
    "    print(window)\n",
    "    # Getting training data\n",
    "    exclude_1 = exclude_bottom[:window]\n",
    "    exclude_2 = exclude_top[window:]\n",
    "    exclude_concat = exclude_1 + exclude_2\n",
    "    full_window = df[~df['DATE'].str.contains('|'.join(exclude_concat))]\n",
    "    \n",
    "    # Training + validation set\n",
    "    val_years = validation_years[start_year_validation:end_year_validation]\n",
    "    train_set = full_window[~full_window['DATE'].str.contains('|'.join(val_years))]\n",
    "\n",
    "    X_train = train_set.iloc[:, 4:]\n",
    "    X_train = X_train.to_numpy()\n",
    "    X_train = np.reshape(X_train, (X_train.shape[0], X_train.shape[1], 1))\n",
    "    y_train = train_set.iloc[:, [1, 2]]\n",
    "    \n",
    "    # Validation set\n",
    "    val_set = full_window[full_window['DATE'].str.contains('|'.join(val_years))]\n",
    "    X_val = val_set.iloc[:, 4:]\n",
    "    X_val = X_val.to_numpy()  \n",
    "    X_val = np.reshape(X_val, (X_val.shape[0], X_val.shape[1], 1))\n",
    "    y_val = val_set.iloc[:, [1, 2]]\n",
    "    \n",
    "    results_one_window = optimize_hyperparameters(X_train, y_train, X_val, y_val)\n",
    "    \n",
    "    #Allocate results to dataframe\n",
    "    hp_results.at[window, \"Window\"] = window\n",
    "    hp_results.at[window, \"N_hidden_layers\"] = results_one_window['N_hidden_layers']\n",
    "    hp_results.at[window, \"N_neurons_layer_1\"] = results_one_window['N_neurons_layer_1'] \n",
    "    hp_results.at[window, \"N_neurons_layer_2\"] = results_one_window['N_neurons_layer_2'] \n",
    "    \n",
    "    if results_one_window['N_hidden_layers'] == 3:\n",
    "        hp_results.at[window, \"N_neurons_layer_3\"] = results_one_window['N_neurons_layer_3'] \n",
    "    else: \n",
    "        hp_results.at[window, \"N_neurons_layer_3\"] = None\n",
    "        \n",
    "    hp_results.at[window, \"Batch_normalization\"] = results_one_window['Batch_normalization'] \n",
    "    hp_results.at[window, \"Dropout_rate\"] = results_one_window['Dropout_rate'] \n",
    "    hp_results.at[window, \"Learning_rate\"] = results_one_window['Learning_rate'] \n",
    "\n",
    "    start_year_validation += 1\n",
    "    end_year_validation += 1\n",
    "\n",
    "hp_results.to_csv(\"Final results/Hyper-parameter results/SRNN Stock&Bond Features.csv\")\n",
    "print(hp_results)"
   ]
  },
  {
   "cell_type": "markdown",
   "id": "e9c5c2e5-dd3d-4023-bbb6-d9d7256c1c51",
   "metadata": {},
   "source": [
    "# SRNN: get results on test set for one window"
   ]
  },
  {
   "cell_type": "code",
   "execution_count": 5,
   "id": "112a1f28-bdf9-4924-a2a4-3294ec60bec5",
   "metadata": {},
   "outputs": [],
   "source": [
    "def test_set(X_train, y_train, X_test, y_test, n_layers, n_neurons_L1, n_neurons_L2, n_neurons_L3, batch_normalization, dropout_rate, learning_rate):\n",
    "    \n",
    "    # Set the seed for reproducibility\n",
    "    seed_value = 42\n",
    "    np.random.seed(seed_value)\n",
    "    tf.random.set_seed(seed_value)\n",
    "    \n",
    "    model = Sequential()\n",
    "    print(X_train.shape)\n",
    "    # Input layer and first hidden layer\n",
    "    model.add(SimpleRNN(units=n_neurons_L1, input_shape=(12, 1), activation='tanh'))\n",
    "    # Dropout layer & Batch normalization layer\n",
    "    model.add(Dropout(dropout_rate))    \n",
    "    if batch_normalization == True:\n",
    "        model.add(BatchNormalization())\n",
    "\n",
    "    # Second hidden layer\n",
    "    if n_layers == 2:\n",
    "        model.add(Dense(units=n_neurons_L2, activation='relu'))\n",
    "        model.add(Dropout(dropout_rate))   \n",
    "        if batch_normalization == True:\n",
    "            model.add(BatchNormalization())\n",
    "\n",
    "        # Possible third hidden layer\n",
    "        if n_layers == 3:\n",
    "            model.add(Dense(units=n_neurons_L3, activation='relu'))\n",
    "            model.add(Dropout(dropout_rate))    \n",
    "            if batch_normalization == True:\n",
    "                model.add(BatchNormalization())\n",
    "\n",
    "        # Output: weight_stock_index & weight_bond_index\n",
    "    model.add(Dense(units=2, activation='softmax'))\n",
    "\n",
    "    # Compile model\n",
    "    optimizer = keras.optimizers.Adam(learning_rate=learning_rate)\n",
    "    model.compile(optimizer=optimizer, loss='mae', metrics=['mae'])\n",
    "    model.fit(X_train, y_train, epochs=10, batch_size=32)\n",
    "\n",
    "    # Evaluate the model on the test data\n",
    "    y_pred = model.predict(X_test)\n",
    "    loss, mae = model.evaluate(X_test, y_test)\n",
    "\n",
    "    # Calculate R-squared\n",
    "    r_squared = r2_score(y_test, y_pred)\n",
    "    return mae, r_squared, y_test, y_pred"
   ]
  },
  {
   "cell_type": "markdown",
   "id": "63d8eb17-2c29-4d6f-bf7e-d607c231d73a",
   "metadata": {},
   "source": [
    "# SRNN: call function for each window to extract all test results"
   ]
  },
  {
   "cell_type": "code",
   "execution_count": 6,
   "id": "48fd0c6a-3131-44a5-82c8-06fe146b7245",
   "metadata": {},
   "outputs": [
    {
     "name": "stdout",
     "output_type": "stream",
     "text": [
      "(310, 12)\n",
      "Epoch 1/10\n",
      "10/10 [==============================] - 2s 12ms/step - loss: 0.4331 - mae: 0.4331\n",
      "Epoch 2/10\n",
      "10/10 [==============================] - 0s 11ms/step - loss: 0.3970 - mae: 0.3970\n",
      "Epoch 3/10\n",
      "10/10 [==============================] - 0s 12ms/step - loss: 0.3620 - mae: 0.3620\n",
      "Epoch 4/10\n",
      "10/10 [==============================] - 0s 21ms/step - loss: 0.3440 - mae: 0.3440\n",
      "Epoch 5/10\n",
      "10/10 [==============================] - 0s 12ms/step - loss: 0.3334 - mae: 0.3334\n",
      "Epoch 6/10\n",
      "10/10 [==============================] - 0s 20ms/step - loss: 0.3291 - mae: 0.3291\n",
      "Epoch 7/10\n",
      "10/10 [==============================] - 0s 12ms/step - loss: 0.3310 - mae: 0.3310\n",
      "Epoch 8/10\n",
      "10/10 [==============================] - 0s 12ms/step - loss: 0.3283 - mae: 0.3283\n",
      "Epoch 9/10\n",
      "10/10 [==============================] - 0s 22ms/step - loss: 0.3257 - mae: 0.3257\n",
      "Epoch 10/10\n",
      "10/10 [==============================] - 0s 21ms/step - loss: 0.3272 - mae: 0.3272\n",
      "1/1 [==============================] - 0s 317ms/step - loss: 0.3803 - mae: 0.3803\n"
     ]
    },
    {
     "data": {
      "image/png": "[encoded data removed]",
      "text/plain": [
       "<Figure size 576x432 with 2 Axes>"
      ]
     },
     "metadata": {
      "needs_background": "light"
     },
     "output_type": "display_data"
    },
    {
     "name": "stdout",
     "output_type": "stream",
     "text": [
      "(312, 12)\n",
      "Epoch 1/10\n",
      "10/10 [==============================] - 2s 22ms/step - loss: 0.4269 - mae: 0.4269\n",
      "Epoch 2/10\n",
      "10/10 [==============================] - 0s 22ms/step - loss: 0.4054 - mae: 0.4054\n",
      "Epoch 3/10\n",
      "10/10 [==============================] - 0s 13ms/step - loss: 0.3834 - mae: 0.3834\n",
      "Epoch 4/10\n",
      "10/10 [==============================] - 0s 13ms/step - loss: 0.3726 - mae: 0.3726\n",
      "Epoch 5/10\n",
      "10/10 [==============================] - 0s 21ms/step - loss: 0.3634 - mae: 0.3634\n",
      "Epoch 6/10\n",
      "10/10 [==============================] - 0s 22ms/step - loss: 0.3456 - mae: 0.3456\n",
      "Epoch 7/10\n",
      "10/10 [==============================] - 0s 21ms/step - loss: 0.3451 - mae: 0.3451\n",
      "Epoch 8/10\n",
      "10/10 [==============================] - 0s 21ms/step - loss: 0.3368 - mae: 0.3368\n",
      "Epoch 9/10\n",
      "10/10 [==============================] - 0s 12ms/step - loss: 0.3317 - mae: 0.3317\n",
      "Epoch 10/10\n",
      "10/10 [==============================] - 0s 12ms/step - loss: 0.3359 - mae: 0.3359\n",
      "1/1 [==============================] - 0s 372ms/step - loss: 0.2519 - mae: 0.2519\n"
     ]
    },
    {
     "data": {
      "image/png": "[encoded data removed]",
      "text/plain": [
       "<Figure size 576x432 with 2 Axes>"
      ]
     },
     "metadata": {
      "needs_background": "light"
     },
     "output_type": "display_data"
    },
    {
     "name": "stdout",
     "output_type": "stream",
     "text": [
      "(312, 12)\n",
      "Epoch 1/10\n",
      "10/10 [==============================] - 2s 30ms/step - loss: 0.3882 - mae: 0.3882\n",
      "Epoch 2/10\n",
      "10/10 [==============================] - 0s 12ms/step - loss: 0.3765 - mae: 0.3765\n",
      "Epoch 3/10\n",
      "10/10 [==============================] - 0s 12ms/step - loss: 0.3665 - mae: 0.3665\n",
      "Epoch 4/10\n",
      "10/10 [==============================] - 0s 12ms/step - loss: 0.3587 - mae: 0.3587\n",
      "Epoch 5/10\n",
      "10/10 [==============================] - 0s 12ms/step - loss: 0.3596 - mae: 0.3596\n",
      "Epoch 6/10\n",
      "10/10 [==============================] - 0s 21ms/step - loss: 0.3452 - mae: 0.3452\n",
      "Epoch 7/10\n",
      "10/10 [==============================] - 0s 22ms/step - loss: 0.3482 - mae: 0.3482\n",
      "Epoch 8/10\n",
      "10/10 [==============================] - 0s 21ms/step - loss: 0.3472 - mae: 0.3472\n",
      "Epoch 9/10\n",
      "10/10 [==============================] - 0s 12ms/step - loss: 0.3430 - mae: 0.3430\n",
      "Epoch 10/10\n",
      "10/10 [==============================] - 0s 21ms/step - loss: 0.3383 - mae: 0.3383\n",
      "1/1 [==============================] - 0s 302ms/step - loss: 0.4123 - mae: 0.4123\n"
     ]
    },
    {
     "data": {
      "image/png": "[encoded data removed]",
      "text/plain": [
       "<Figure size 576x432 with 2 Axes>"
      ]
     },
     "metadata": {
      "needs_background": "light"
     },
     "output_type": "display_data"
    },
    {
     "name": "stdout",
     "output_type": "stream",
     "text": [
      "(312, 12)\n",
      "Epoch 1/10\n",
      "10/10 [==============================] - 2s 20ms/step - loss: 0.4268 - mae: 0.4268\n",
      "Epoch 2/10\n",
      "10/10 [==============================] - 0s 22ms/step - loss: 0.4018 - mae: 0.4018\n",
      "Epoch 3/10\n",
      "10/10 [==============================] - 0s 22ms/step - loss: 0.4001 - mae: 0.4001\n",
      "Epoch 4/10\n",
      "10/10 [==============================] - 0s 12ms/step - loss: 0.4221 - mae: 0.4221\n",
      "Epoch 5/10\n",
      "10/10 [==============================] - 0s 12ms/step - loss: 0.4064 - mae: 0.4064\n",
      "Epoch 6/10\n",
      "10/10 [==============================] - 0s 21ms/step - loss: 0.4252 - mae: 0.4252\n",
      "Epoch 7/10\n",
      "10/10 [==============================] - 0s 12ms/step - loss: 0.3933 - mae: 0.3933\n",
      "Epoch 8/10\n",
      "10/10 [==============================] - 0s 21ms/step - loss: 0.3782 - mae: 0.3782\n",
      "Epoch 9/10\n",
      "10/10 [==============================] - 0s 11ms/step - loss: 0.3919 - mae: 0.3919\n",
      "Epoch 10/10\n",
      "10/10 [==============================] - 0s 12ms/step - loss: 0.3953 - mae: 0.3953\n",
      "1/1 [==============================] - 0s 369ms/step - loss: 0.4236 - mae: 0.4236\n"
     ]
    },
    {
     "data": {
      "image/png": "[encoded data removed]",
      "text/plain": [
       "<Figure size 576x432 with 2 Axes>"
      ]
     },
     "metadata": {
      "needs_background": "light"
     },
     "output_type": "display_data"
    },
    {
     "name": "stdout",
     "output_type": "stream",
     "text": [
      "(312, 12)\n",
      "Epoch 1/10\n",
      "10/10 [==============================] - 1s 22ms/step - loss: 0.4053 - mae: 0.4053\n",
      "Epoch 2/10\n",
      "10/10 [==============================] - 0s 12ms/step - loss: 0.3895 - mae: 0.3895\n",
      "Epoch 3/10\n",
      "10/10 [==============================] - 0s 21ms/step - loss: 0.3853 - mae: 0.3853\n",
      "Epoch 4/10\n",
      "10/10 [==============================] - 0s 12ms/step - loss: 0.3749 - mae: 0.3749\n",
      "Epoch 5/10\n",
      "10/10 [==============================] - 0s 11ms/step - loss: 0.3697 - mae: 0.3697\n",
      "Epoch 6/10\n",
      "10/10 [==============================] - 0s 12ms/step - loss: 0.3697 - mae: 0.3697\n",
      "Epoch 7/10\n",
      "10/10 [==============================] - 0s 22ms/step - loss: 0.3575 - mae: 0.3575\n",
      "Epoch 8/10\n",
      "10/10 [==============================] - 0s 22ms/step - loss: 0.3559 - mae: 0.3559\n",
      "Epoch 9/10\n",
      "10/10 [==============================] - 0s 20ms/step - loss: 0.3599 - mae: 0.3599\n",
      "Epoch 10/10\n",
      "10/10 [==============================] - 0s 12ms/step - loss: 0.3621 - mae: 0.3621\n",
      "WARNING:tensorflow:5 out of the last 5 calls to <function Model.make_predict_function.<locals>.predict_function at 0x7fdfb61583a0> triggered tf.function retracing. Tracing is expensive and the excessive number of tracings could be due to (1) creating @tf.function repeatedly in a loop, (2) passing tensors with different shapes, (3) passing Python objects instead of tensors. For (1), please define your @tf.function outside of the loop. For (2), @tf.function has experimental_relax_shapes=True option that relaxes argument shapes that can avoid unnecessary retracing. For (3), please refer to https://www.tensorflow.org/guide/function#controlling_retracing and https://www.tensorflow.org/api_docs/python/tf/function for  more details.\n",
      "WARNING:tensorflow:5 out of the last 5 calls to <function Model.make_test_function.<locals>.test_function at 0x7fdfb6051430> triggered tf.function retracing. Tracing is expensive and the excessive number of tracings could be due to (1) creating @tf.function repeatedly in a loop, (2) passing tensors with different shapes, (3) passing Python objects instead of tensors. For (1), please define your @tf.function outside of the loop. For (2), @tf.function has experimental_relax_shapes=True option that relaxes argument shapes that can avoid unnecessary retracing. For (3), please refer to https://www.tensorflow.org/guide/function#controlling_retracing and https://www.tensorflow.org/api_docs/python/tf/function for  more details.\n",
      "1/1 [==============================] - 0s 283ms/step - loss: 0.3108 - mae: 0.3108\n"
     ]
    },
    {
     "data": {
      "image/png": "[encoded data removed]",
      "text/plain": [
       "<Figure size 576x432 with 2 Axes>"
      ]
     },
     "metadata": {
      "needs_background": "light"
     },
     "output_type": "display_data"
    },
    {
     "name": "stdout",
     "output_type": "stream",
     "text": [
      "(312, 12)\n",
      "Epoch 1/10\n",
      "10/10 [==============================] - 2s 28ms/step - loss: 0.3893 - mae: 0.3893\n",
      "Epoch 2/10\n",
      "10/10 [==============================] - 0s 22ms/step - loss: 0.4103 - mae: 0.4103\n",
      "Epoch 3/10\n",
      "10/10 [==============================] - 0s 22ms/step - loss: 0.3796 - mae: 0.3796\n",
      "Epoch 4/10\n",
      "10/10 [==============================] - 0s 22ms/step - loss: 0.3637 - mae: 0.3637\n",
      "Epoch 5/10\n",
      "10/10 [==============================] - 0s 22ms/step - loss: 0.3753 - mae: 0.3753\n",
      "Epoch 6/10\n",
      "10/10 [==============================] - 0s 21ms/step - loss: 0.3706 - mae: 0.3706\n",
      "Epoch 7/10\n",
      "10/10 [==============================] - 0s 21ms/step - loss: 0.3820 - mae: 0.3820\n",
      "Epoch 8/10\n",
      "10/10 [==============================] - 0s 21ms/step - loss: 0.3439 - mae: 0.3439\n",
      "Epoch 9/10\n",
      "10/10 [==============================] - 0s 21ms/step - loss: 0.3347 - mae: 0.3347\n",
      "Epoch 10/10\n",
      "10/10 [==============================] - 0s 12ms/step - loss: 0.3608 - mae: 0.3608\n",
      "WARNING:tensorflow:6 out of the last 6 calls to <function Model.make_predict_function.<locals>.predict_function at 0x7fdfb5ffe9d0> triggered tf.function retracing. Tracing is expensive and the excessive number of tracings could be due to (1) creating @tf.function repeatedly in a loop, (2) passing tensors with different shapes, (3) passing Python objects instead of tensors. For (1), please define your @tf.function outside of the loop. For (2), @tf.function has experimental_relax_shapes=True option that relaxes argument shapes that can avoid unnecessary retracing. For (3), please refer to https://www.tensorflow.org/guide/function#controlling_retracing and https://www.tensorflow.org/api_docs/python/tf/function for  more details.\n",
      "WARNING:tensorflow:6 out of the last 6 calls to <function Model.make_test_function.<locals>.test_function at 0x7fdfb5f86c10> triggered tf.function retracing. Tracing is expensive and the excessive number of tracings could be due to (1) creating @tf.function repeatedly in a loop, (2) passing tensors with different shapes, (3) passing Python objects instead of tensors. For (1), please define your @tf.function outside of the loop. For (2), @tf.function has experimental_relax_shapes=True option that relaxes argument shapes that can avoid unnecessary retracing. For (3), please refer to https://www.tensorflow.org/guide/function#controlling_retracing and https://www.tensorflow.org/api_docs/python/tf/function for  more details.\n",
      "1/1 [==============================] - 0s 288ms/step - loss: 0.4315 - mae: 0.4315\n"
     ]
    },
    {
     "data": {
      "image/png": "[encoded data removed]",
      "text/plain": [
       "<Figure size 576x432 with 2 Axes>"
      ]
     },
     "metadata": {
      "needs_background": "light"
     },
     "output_type": "display_data"
    },
    {
     "name": "stdout",
     "output_type": "stream",
     "text": [
      "  Window    MAE R_squared Accuracy F1 Score\n",
      "0      0   0.38    -0.644    0.417    0.245\n",
      "1      1  0.252    -0.075      0.5    0.444\n",
      "2      2  0.412    -0.289      0.5    0.531\n",
      "3      3  0.424    -1.168    0.417    0.378\n",
      "4      4  0.311     0.076    0.833    0.833\n",
      "5      5  0.431    -0.604    0.417    0.404\n"
     ]
    }
   ],
   "source": [
    "# Import tuned hyper-paramters\n",
    "hp_results = pd.read_csv(\"Final results/Hyper-parameter results/SRNN Stock&Bond Features.csv\")\n",
    "\n",
    "# Years that will be removed from the data set (depending on the window)\n",
    "bottom_years = [\"1990\", \"1991\", \"1992\", \"1993\",\"1994\"]\n",
    "test_years = [\"2016\", \"2017\", \"2018\", \"2019\", \"2020\", \"2021\"]\n",
    "\n",
    "# Define table to store results\n",
    "result_SRNN = pd.DataFrame(\n",
    "{\"Window\":              [None, None, None, None, None, None],\n",
    " \"MAE\":                 [None, None, None, None, None, None],\n",
    " \"R_squared\":           [None, None, None, None, None, None],\n",
    " \"Accuracy\":            [None, None, None, None, None, None],\n",
    " \"F1 Score\":            [None, None, None, None, None, None]\n",
    "})\n",
    "\n",
    "# Define np array to store actual and predicted weights\n",
    "weights_results = pd.DataFrame([[None] * 5] * 72, columns=['Date', 'Actual Stock Weight', 'Actual Bond Weight', 'Predicted Stock Weight', 'Predicted Bond Weight'])\n",
    "\n",
    "# Loop over each \n",
    "for window in range(6):\n",
    "    # Retrieve hyper-parameters for window\n",
    "    Window = hp_results.loc[window, ['Window']][0]\n",
    "    N_hidden_layers = int(hp_results.loc[window, ['N_hidden_layers']][0])\n",
    "    N_neurons_layer_1 = N_neurons_layer_3 = int(hp_results.loc[window, ['N_neurons_layer_1']][0])\n",
    "    N_neurons_layer_2 = N_neurons_layer_3 = int(hp_results.loc[window, ['N_neurons_layer_2']][0])\n",
    "\n",
    "    if N_hidden_layers == 3:\n",
    "        N_neurons_layer_3 = int(hp_results.loc[window, ['N_neurons_layer_3']][0])\n",
    "    else:\n",
    "        N_neurons_layer_3 = hp_results.loc[window, ['N_neurons_layer_3']][0]\n",
    "    Batch_normalization = int(hp_results.loc[window, ['Batch_normalization']][0])\n",
    "    Dropout_rate = hp_results.loc[window, ['Dropout_rate']][0]\n",
    "    Learning_rate = hp_results.loc[window, ['Learning_rate']][0]\n",
    "\n",
    "\n",
    "    # Exluce the bottom years in training set (depending on window)\n",
    "    exclude_bottom_years = bottom_years[0:window]\n",
    "    \n",
    "    # Exclude test years in training set (depending on window)\n",
    "    exclude_test_years = test_years[window:]\n",
    "    \n",
    "    # Merge years to exclude for training set (depending on window)\n",
    "    train_exclude= exclude_bottom_years + exclude_test_years\n",
    "\n",
    "    # Retrieve test year (depending on window)\n",
    "    test_year = test_years[window]\n",
    "   \n",
    "    # Get filtered data set \n",
    "    whole_train = df[~df['DATE'].str.contains('|'.join(train_exclude))]\n",
    "    whole_test = df[df['DATE'].str.contains(test_year)]\n",
    "\n",
    "    # Select right columns\n",
    "    X_train = whole_train.iloc[:, 4:]\n",
    "    y_train = whole_train.iloc[:, [1, 2]]\n",
    "    X_test = whole_test.iloc[:, 4:]\n",
    "    y_test = whole_test.iloc[:, [1, 2]]\n",
    "    \n",
    "    # Extract results for each window\n",
    "    result_window = test_set(X_train=X_train, y_train=y_train, X_test=X_test, y_test=y_test, n_layers=N_hidden_layers, n_neurons_L1=N_neurons_layer_1,n_neurons_L2=N_neurons_layer_2, n_neurons_L3=N_neurons_layer_3, batch_normalization=Batch_normalization, dropout_rate=Dropout_rate, learning_rate=Learning_rate)\n",
    "    \n",
    "    # Assign results to table\n",
    "    \n",
    "    dates = list(whole_test.loc[:, \"DATE\"])\n",
    "    weights_results.loc[window*12:(window*12+11), \"Date\"] = dates\n",
    "    stock_optimal = list(whole_test.loc[:, \"Stock index\"])\n",
    "    weights_results.loc[window*12:(window*12+11), \"Actual Stock Weight\"] = stock_optimal\n",
    "    bond_optimal = list(whole_test.loc[:, \"Bond Index\"])\n",
    "    weights_results.loc[window*12:(window*12+11), \"Actual Bond Weight\"] = bond_optimal\n",
    "    pred_stock = list(result_window[3][:, 0])\n",
    "    weights_results.loc[window*12:(window*12+11), \"Predicted Stock Weight\"] = pred_stock\n",
    "    pred_bond = list(result_window[3][:, 1])\n",
    "    weights_results.loc[window*12:(window*12+11), \"Predicted Bond Weight\"] = pred_bond\n",
    "    \n",
    "    # Assign results to table\n",
    "    result_SRNN.at[window, \"Window\"] = window\n",
    "    result_SRNN.at[window, \"MAE\"] = np.round(result_window[0], 3)\n",
    "    result_SRNN.at[window, \"R_squared\"] = np.round(result_window[1], 3)\n",
    "    \n",
    "    # Rounc for classification results\n",
    "    round_actual = np.round(result_window[2]).values #convert to np array\n",
    "    round_pred = np.round(result_window[3])\n",
    "    row_matches = np.all(round_pred == round_actual, axis=1)\n",
    "\n",
    "    # Get accuracy and F1 score\n",
    "    y_pred = (round_pred > 0.5)\n",
    "    acc = accuracy_score(round_actual.argmax(axis=1), y_pred.argmax(axis=1))\n",
    "    result_SRNN.at[window, \"Accuracy\"] = round(acc, 3)\n",
    "    f1 = f1_score(round_actual.argmax(axis=1), y_pred.argmax(axis=1), average='weighted')\n",
    "    result_SRNN.at[window, \"F1 Score\"] = round(f1, 3)\n",
    "    \t\n",
    "    # Plot confusion matrix\n",
    "    cm = confusion_matrix(round_actual.argmax(axis=1), y_pred.argmax(axis=1))\n",
    "    plt.figure(figsize=(8, 6))\n",
    "    sns.heatmap(cm, annot=True, cmap='Blues', fmt='g')\n",
    "    plt.xlabel('Predicted labels')\n",
    "    plt.ylabel('True labels')\n",
    "    plt.title('Confusion Matrix')\n",
    "    plt.show()\n",
    "   \n",
    "result_SRNN.to_csv(\"Final results/Model results/SRNN Stock&Bond Features.csv\")\n",
    "weights_results.to_csv(\"Final results/Weight results/SRNN Stock&Bond Features.csv\")\n",
    "print(result_SRNN)"
   ]
  }
 ],
 "metadata": {
  "kernelspec": {
   "display_name": "Python 3 (ipykernel)",
   "language": "python",
   "name": "python3"
  },
  "language_info": {
   "codemirror_mode": {
    "name": "ipython",
    "version": 3
   },
   "file_extension": ".py",
   "mimetype": "text/x-python",
   "name": "python",
   "nbconvert_exporter": "python",
   "pygments_lexer": "ipython3",
   "version": "3.9.7"
  }
 },
 "nbformat": 4,
 "nbformat_minor": 5
}
