{
 "cells": [
  {
   "cell_type": "markdown",
   "id": "c682bd37-18ed-4ecc-afaa-10bf3eb82a18",
   "metadata": {},
   "source": [
    "# Import packages"
   ]
  },
  {
   "cell_type": "code",
   "execution_count": null,
   "id": "882afac3-49d7-4628-812b-2dfd75851af4",
   "metadata": {},
   "outputs": [],
   "source": [
    "import pandas as pd\n",
    "from scipy import stats\n",
    "import statistics  "
   ]
  },
  {
   "cell_type": "markdown",
   "id": "f1fa31f5-9f8f-4dfc-b041-7f0599dc3bfe",
   "metadata": {},
   "source": [
    "# Import monthly access portfolio returns"
   ]
  },
  {
   "cell_type": "code",
   "execution_count": null,
   "id": "f7b9cd0c-d89c-4402-91e2-073b61868a04",
   "metadata": {},
   "outputs": [],
   "source": [
    "df = pd.read_excel(\"Aggregate Returns.xlsx\")\n",
    "# Convert dates to string\n",
    "df['DATE'] = df['DATE'].astype(str)\n",
    "# Get access returns\n",
    "df = df.iloc[:, [0, 7, 8, 9, 10]]"
   ]
  },
  {
   "cell_type": "markdown",
   "id": "e307dbc7-d53e-40df-8f77-9ccb2052a053",
   "metadata": {},
   "source": [
    "# Calculate the anual Sharpe ratio for each portfolio"
   ]
  },
  {
   "cell_type": "code",
   "execution_count": null,
   "id": "10d62397-06af-4d51-9dd9-d4c203bf71ba",
   "metadata": {},
   "outputs": [],
   "source": [
    "test_years = ['2016', '2017', '2018', '2019', '2020', '2021']\n",
    "\n",
    "# Pre-define dataframe\n",
    "Sharpe_results = pd.DataFrame(\n",
    "    {\"Year\":                [None, None, None, None, None, None],\n",
    "     \"MLP\":                 [None, None, None, None, None, None],\n",
    "     \"SRNN\":                [None, None, None, None, None, None],\n",
    "     \"EWP\":                 [None, None, None, None, None, None],\n",
    "    })\n",
    "\n",
    "for year,row in zip(test_years, range(6)):\n",
    "    full_window = df[df['DATE'].str.contains(year)]\n",
    "    MLP = full_window.iloc[:, 1]\n",
    "    SRNN = full_window.iloc[:, 2]\n",
    "    EWP = full_window.iloc[:, 3]\n",
    "    sixfour = full_window.iloc[:, 4]\n",
    "    \n",
    "    # Calculate Sharpe ratios\n",
    "    MLP_Sharpe = statistics.mean(MLP) / statistics.stdev(MLP) * statistics.sqrt(12)\n",
    "    SRNN_Sharpe = statistics.mean(SRNN) / statistics.stdev(SRNN) * statistics.sqrt(12)\n",
    "    EWP_Sharpe = statistics.mean(EWP) / statistics.stdev(EWP) * statistics.sqrt(12)\n",
    "    \n",
    "    # Allocate to data frame\n",
    "    Sharpe_results.at[row, \"Year\"] = year\n",
    "    Sharpe_results.at[row, \"MLP\"] = MLP_Sharpe\n",
    "    Sharpe_results.at[row, \"SRNN\"] = SRNN_Sharpe\n",
    "    Sharpe_results.at[row, \"EWP\"] = EWP_Sharpe\n",
    "    \n",
    "Sharpe_results.to_csv(\"Sharpe results.csv\")"
   ]
  },
  {
   "cell_type": "markdown",
   "id": "a4b7980b-a3af-4103-a947-e3a3889526b6",
   "metadata": {},
   "source": [
    "# Performone sided t-tests"
   ]
  },
  {
   "cell_type": "code",
   "execution_count": null,
   "id": "d01e710f-c171-407d-afac-62fc6160a131",
   "metadata": {},
   "outputs": [],
   "source": [
    "MLP = Sharpe_results[\"MLP\"]\n",
    "SRNN = Sharpe_results[\"SRNN\"]\n",
    "EWP = Sharpe_results[\"EWP\"]\n",
    "EWP = Sharpe_results[\"60/40\"]\n",
    "\n",
    "alpha = 0.05\n",
    "\n",
    "# See whether MLP significantly outperforms EWP (one sided t-test)\n",
    "t_stat, p_value = stats.ttest_ind(MLP, EWP, alternative='greater')\n",
    "\n",
    "print(t_stat, p_value)\n",
    "\n",
    "if p_value < alpha:\n",
    "    print(\"Reject the null hypothesis. There is evidence that the mean Sharpe for MLP  is greater than the EW portfolio.\")\n",
    "else:\n",
    "    print(\"Fail to reject the null hypothesis. There is insufficient evidence that the mean Sharpe for MLP is greater than the EW portfolio.\")\n",
    "\n",
    "# See whether SRNN significantly outperforms EWP (one sided t-test)\n",
    "t_stat, p_value = stats.ttest_ind(SRNN, EWP, alternative='greater')\n",
    "\n",
    "print(t_stat, p_value)\n",
    "\n",
    "if p_value < alpha:\n",
    "    print(\"Reject the null hypothesis. There is evidence that the mean Sharpe for SRNN  is greater than EWP.\")\n",
    "else:\n",
    "    print(\"Fail to reject the null hypothesis. There is insufficient evidence that the mean Sharpe for SRNN is greater than the EW portfolio.\")"
   ]
  }
 ],
 "metadata": {
  "kernelspec": {
   "display_name": "Python 3 (ipykernel)",
   "language": "python",
   "name": "python3"
  },
  "language_info": {
   "codemirror_mode": {
    "name": "ipython",
    "version": 3
   },
   "file_extension": ".py",
   "mimetype": "text/x-python",
   "name": "python",
   "nbconvert_exporter": "python",
   "pygments_lexer": "ipython3",
   "version": "3.9.7"
  }
 },
 "nbformat": 4,
 "nbformat_minor": 5
}
