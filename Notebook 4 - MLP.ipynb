{
 "cells": [
  {
   "cell_type": "markdown",
   "id": "87d836f8-1906-4674-815e-42a9955986b3",
   "metadata": {},
   "source": [
    "# Import packages"
   ]
  },
  {
   "cell_type": "code",
   "execution_count": 1,
   "id": "03132fa6-01bd-43be-b95b-8b1ad881b259",
   "metadata": {},
   "outputs": [],
   "source": [
    "import pandas as pd\n",
    "import numpy as np\n",
    "import tensorflow as tf\n",
    "import keras_tuner as kt\n",
    "from tensorflow import keras\n",
    "from tensorflow.keras.models import Sequential\n",
    "from tensorflow.keras.layers import Dense, BatchNormalization, Dropout\n",
    "from sklearn.metrics import r2_score\n",
    "from sklearn.preprocessing import StandardScaler\n",
    "from sklearn.metrics import confusion_matrix, accuracy_score, f1_score\n",
    "import matplotlib.pyplot as plt\n",
    "import seaborn as sns"
   ]
  },
  {
   "cell_type": "markdown",
   "id": "86b25728-2c1a-451b-842b-9879ae3f825a",
   "metadata": {},
   "source": [
    "# Combine target and features into one dataframe"
   ]
  },
  {
   "cell_type": "code",
   "execution_count": 2,
   "id": "a0e0be97-d2c5-4e95-8901-233153124acf",
   "metadata": {},
   "outputs": [
    {
     "name": "stdout",
     "output_type": "stream",
     "text": [
      "           DATE  Stock index  Bond Index DATE Features  CPIAUCNS yoy \n",
      "0    01/03/1990         0.70        0.30    01/02/1990          0.100\n",
      "1    01/04/1990         0.98        0.02    01/03/1990          0.000\n",
      "2    01/05/1990         0.30        0.70    01/04/1990         -0.600\n",
      "3    01/06/1990         0.00        1.00    01/05/1990         -0.400\n",
      "4    01/07/1990         0.00        1.00    01/06/1990          0.400\n",
      "..          ...          ...         ...           ...            ...\n",
      "377  01/08/2021         0.99        0.01    01/07/2021          0.003\n",
      "378  01/09/2021         0.00        1.00    01/08/2021         -0.253\n",
      "379  01/10/2021         0.65        0.35    01/09/2021          0.381\n",
      "380  01/11/2021         0.00        1.00    01/10/2021          2.171\n",
      "381  01/12/2021         0.67        0.33    01/11/2021          1.518\n",
      "\n",
      "[382 rows x 5 columns]\n"
     ]
    }
   ],
   "source": [
    "# Monthly series\n",
    "df1 = pd.read_csv(\"files/Monthly stationary series.csv\")\n",
    "# Extracted features\n",
    "df2 = pd.read_csv(\"files/Monthly Extracted Features.csv\")\n",
    "df2.columns.array[0] = 'DATE 2 Features'\n",
    "# Combine\n",
    "features = pd.concat([df1, df2], axis=1)\n",
    "features = features.drop('DATE 2 Features', axis=1) # Drop 'DATE' column for redundancy\n",
    "features = features.drop(0)                       # Drop first row\n",
    "features = features.drop(features.index[-1])      # Drop last row\n",
    "features = features.reset_index(drop=True)\n",
    "\n",
    "# Target\n",
    "target = pd.read_csv(\"files/Target.csv\")\n",
    "complete_set = pd.concat([target, features], axis=1)\n",
    "complete_set.columns.array[3]= \"DATE Features\"\n",
    "print(complete_set.iloc[:, 0:5])\n",
    "\n",
    "\n",
    "'''\n",
    "There are two columns with dates, as one functions for the target (see column 0: DATE) at time t+1, and the other (see column 4: DATE Features) for the feature date at time t.\n",
    "'''"
   ]
  },
  {
   "cell_type": "markdown",
   "id": "2762ca92-215f-4e1e-8a43-c0b8dbca5b71",
   "metadata": {},
   "source": [
    "# Standardize features"
   ]
  },
  {
   "cell_type": "code",
   "execution_count": 3,
   "id": "eb667f6a-98db-444a-8c47-2b082341c82e",
   "metadata": {},
   "outputs": [
    {
     "name": "stdout",
     "output_type": "stream",
     "text": [
      "           DATE  Stock index  Bond Index DATE Features  CPIAUCNS yoy \n",
      "0    01/03/1990         0.70        0.30    01/02/1990       0.138627\n",
      "1    01/04/1990         0.98        0.02    01/03/1990       0.015108\n",
      "2    01/05/1990         0.30        0.70    01/04/1990      -0.726010\n",
      "3    01/06/1990         0.00        1.00    01/05/1990      -0.478971\n",
      "4    01/07/1990         0.00        1.00    01/06/1990       0.509186\n",
      "..          ...          ...         ...           ...            ...\n",
      "377  01/08/2021         0.99        0.01    01/07/2021       0.018813\n",
      "378  01/09/2021         0.00        1.00    01/08/2021      -0.297397\n",
      "379  01/10/2021         0.65        0.35    01/09/2021       0.485718\n",
      "380  01/11/2021         0.00        1.00    01/10/2021       2.696720\n",
      "381  01/12/2021         0.67        0.33    01/11/2021       1.890136\n",
      "\n",
      "[382 rows x 5 columns]\n"
     ]
    }
   ],
   "source": [
    "df = complete_set\n",
    "\n",
    "# Separate the years, target columns, and features\n",
    "years = df.iloc[:, 3]\n",
    "target_columns = df.iloc[:, 1:3]\n",
    "features = df.iloc[:, 4:]\n",
    "\n",
    "# Identify the indices corresponding to the training and test periods\n",
    "train_indices = (pd.to_datetime(years, format='%d/%m/%Y') >= '1990-01-01') & (pd.to_datetime(years, format='%d/%m/%Y') <= '2010-12-31')\n",
    "valid_and_test_indices = (pd.to_datetime(years, format='%d/%m/%Y') >= '2011-01-01') & (pd.to_datetime(years, format='%d/%m/%Y') <= '2021-12-31')\n",
    "\n",
    "# Extract the training and test features\n",
    "X_train = features[train_indices]\n",
    "X_valid_and_test = features[valid_and_test_indices]\n",
    "\n",
    "# Calculate mean and standard deviation using only the training data\n",
    "mean_train = X_train.mean(axis=0)\n",
    "std_train = X_train.std(axis=0)\n",
    "\n",
    "# Standardize the training and test features using the training statistics\n",
    "scaler = StandardScaler()\n",
    "X_train_scaled = scaler.fit_transform(X_train)\n",
    "X_valid_and_test_scaled = scaler.transform(X_valid_and_test)\n",
    "\n",
    "# Replace the original feature columns with the standardized ones\n",
    "df.iloc[train_indices, 4:] = X_train_scaled\n",
    "df.iloc[valid_and_test_indices, 4:] = X_valid_and_test_scaled\n",
    "print(df.iloc[:, :5])\n",
    "df.to_csv(\"files/Standardized features.csv\")"
   ]
  },
  {
   "cell_type": "markdown",
   "id": "1fcc3b5d-2ed2-4bce-9a5c-df2d12004957",
   "metadata": {},
   "source": [
    "# MLP: tune hyper-parameters for one window\n",
    "\n",
    "- Each layer can have a unique number of neurons. \n",
    "- The dropout rate is the same in each hidden layer\n",
    "- Batch normalization occurs after each hidden layer or does not occur at all\n"
   ]
  },
  {
   "cell_type": "code",
   "execution_count": 4,
   "id": "51b656aa-48f9-47bc-ac23-94010c17f887",
   "metadata": {},
   "outputs": [],
   "source": [
    "# Set the seed for reproducibility purposes\n",
    "seed_value = 42\n",
    "np.random.seed(seed_value)\n",
    "tf.random.set_seed(seed_value)\n",
    "\n",
    "def optimize_hyperparameters(X_train, y_train, X_val, y_val):\n",
    "    def build_model(hp):\n",
    "        model = Sequential()\n",
    "        \n",
    "        # Input layer & first hidden layer\n",
    "        model.add(Dense(units=hp.Choice('N_neurons_layer_1', values=[8, 16, 32, 64, 128]), input_dim=X_train.shape[1], activation='relu'))\n",
    "        model.add(Dropout(hp.Choice('Dropout_rate', values=[0.0, 0.25, 0.5])))\n",
    "        if hp.Choice('Batch_normalization', values=[True, False]):\n",
    "            model.add(BatchNormalization())\n",
    "\n",
    "        # Minimum of 2 and maximum of 3 hidden layers\n",
    "        n_hidden_layers = hp.Choice('N_hidden_layers', values=[2, 3])\n",
    "        \n",
    "        # Layer 2\n",
    "        if n_hidden_layers == 2:\n",
    "            model.add(Dense(units=hp.Choice('N_neurons_layer_2', values=[8, 16, 32, 64, 128]), activation='relu'))\n",
    "            model.add(Dropout(hp.Choice('Dropout_rate',  values=[0.0, 0.25, 0.5])))\n",
    "            if hp.Choice('Batch_normalization', values=[True, False]):\n",
    "                model.add(BatchNormalization())    \n",
    "        else:\n",
    "            # Layer 2\n",
    "            model.add(Dense(units=hp.Choice('N_neurons_layer_2', values=[8, 16, 32, 64, 128]), activation='relu'))\n",
    "            model.add(Dropout(hp.Choice('Dropout_rate',  values=[0.0, 0.25, 0.5])))\n",
    "            if hp.Choice('Batch_normalization', values=[True, False]):\n",
    "                model.add(BatchNormalization())\n",
    "                                    \n",
    "            # Layer 3\n",
    "            model.add(Dense(units=hp.Choice('N_neurons_layer_3', values=[8, 16, 32, 64, 128]), activation='relu'))\n",
    "            model.add(Dropout(hp.Choice('Dropout_rate',  values=[0.0, 0.25, 0.5])))\n",
    "            if hp.Choice('Batch_normalization', values=[True, False]):\n",
    "                model.add(BatchNormalization())\n",
    "\n",
    "                \n",
    "        # Output: weight_stock_index & weight_bond_index\n",
    "        model.add(Dense(units=2, activation='softmax'))\n",
    "\n",
    "        # Learning rates for Adam (default=0.001)\n",
    "        lr = hp.Choice('Learning_rate', values=[0.01, 0.0001, 0.001])\n",
    "        optimizer = keras.optimizers.Adam(learning_rate=lr)\n",
    "   \n",
    "        # Compile model\n",
    "        model.compile(optimizer=optimizer, loss='mean_absolute_errSor', metrics=['mean_absolute_error'])\n",
    "        return model\n",
    "    \n",
    "    tuner = kt.RandomSearch(\n",
    "        build_model,\n",
    "        objective=kt.Objective('val_mean_absolute_error', direction='min'),\n",
    "        max_trials=100,\n",
    "        seed=42,\n",
    "        tune_new_entries=True,\n",
    "        allow_new_entries=True,\n",
    "        max_retries_per_trial=0,\n",
    "        max_consecutive_failed_trials=3,\n",
    "        overwrite= True)\n",
    "        \n",
    "    tuner.search(x=X_train,\n",
    "                 y=y_train,\n",
    "                 epochs=10,\n",
    "                 batch_size=32,\n",
    "                 validation_data=(X_val, y_val))\n",
    "    \n",
    "    # Get the best hyperparameters and the best trial\n",
    "    best_trial = tuner.oracle.get_best_trials(num_trials=1)[0]\n",
    "    best_hyperparameters = best_trial.hyperparameters\n",
    "\n",
    "    return best_hyperparameters.values"
   ]
  },
  {
   "cell_type": "markdown",
   "id": "a2ceb236-cb3f-4319-97cc-6bda85c4ba0f",
   "metadata": {},
   "source": [
    "# MLP: call function for each window to extract tuned hyper-parameters"
   ]
  },
  {
   "cell_type": "code",
   "execution_count": 5,
   "id": "8f8f8958-dd86-4b0c-8a20-2af12bee146f",
   "metadata": {},
   "outputs": [
    {
     "name": "stdout",
     "output_type": "stream",
     "text": [
      "Trial 100 Complete [00h 00m 02s]\n",
      "val_mean_absolute_error: 0.34886759519577026\n",
      "\n",
      "Best val_mean_absolute_error So Far: 0.3056401014328003\n",
      "Total elapsed time: 00h 05m 03s\n",
      "  Window N_hidden_layers N_neurons_layer_1 N_neurons_layer_2  \\\n",
      "0      0               3                 8                 8   \n",
      "1      1               3                16                16   \n",
      "2      2               3                64                32   \n",
      "3      3               2                32                16   \n",
      "4      4               2               128               128   \n",
      "5      5               2                32                16   \n",
      "\n",
      "  N_neurons_layer_3 Batch_normalization Dropout_rate Learning_rate   MAE  \n",
      "0                32                   0          0.0        0.0001  None  \n",
      "1                64                   1          0.0          0.01  None  \n",
      "2                 8                   0          0.0          0.01  None  \n",
      "3              None                   1         0.25          0.01  None  \n",
      "4              None                   1         0.25          0.01  None  \n",
      "5              None                   1          0.5         0.001  None  \n",
      "  Window N_hidden_layers N_neurons_layer_1 N_neurons_layer_2  \\\n",
      "0      0               3                 8                 8   \n",
      "1      1               3                16                16   \n",
      "2      2               3                64                32   \n",
      "3      3               2                32                16   \n",
      "4      4               2               128               128   \n",
      "5      5               2                32                16   \n",
      "\n",
      "  N_neurons_layer_3 Batch_normalization Dropout_rate Learning_rate   MAE  \n",
      "0                32                   0          0.0        0.0001  None  \n",
      "1                64                   1          0.0          0.01  None  \n",
      "2                 8                   0          0.0          0.01  None  \n",
      "3              None                   1         0.25          0.01  None  \n",
      "4              None                   1         0.25          0.01  None  \n",
      "5              None                   1          0.5         0.001  None  \n"
     ]
    }
   ],
   "source": [
    "# Pre-define table for hyper-parameter results\n",
    "hp_results = pd.DataFrame(\n",
    "    {\"Window\":              [None, None, None, None, None, None],\n",
    "     \"N_hidden_layers\":     [None, None, None, None, None, None],\n",
    "     \"N_neurons_layer_1\":   [None, None, None, None, None, None],\n",
    "     \"N_neurons_layer_2\":   [None, None, None, None, None, None],\n",
    "     \"N_neurons_layer_3\":   [None, None, None, None, None, None],\n",
    "     \"Batch_normalization\": [None, None, None, None, None, None],\n",
    "     \"Dropout_rate\":        [None, None, None, None, None, None],\n",
    "     \"Learning_rate\":       [None, None, None, None, None, None],\n",
    "     \"MAE\":                 [None, None, None, None, None, None]\n",
    "    })\n",
    "\n",
    "# Date (column 1), target (column B & C), Sharpe ratio (Column D), & features (column E & onwards)\n",
    "exclude_bottom = ['1990', '1991', '1992', '1993', '1994']\n",
    "exclude_top = ['2016', '2017', '2018', '2019', '2020', '2021']\n",
    "validation_years = ['2011', '2012', '2013', '2014', '2015', '2016', '2017', '2018', '2019', '2020']\n",
    "\n",
    "start_year_validation = 0\n",
    "end_year_validation = 5\n",
    "for window in range(6):\n",
    "    # Getting training data\n",
    "    exclude_1 = exclude_bottom[:window]\n",
    "    exclude_2 = exclude_top[window:]\n",
    "    exclude_concat = exclude_1 + exclude_2\n",
    "    full_window = df[~df['DATE'].str.contains('|'.join(exclude_concat))]\n",
    "\n",
    "    # Training + validation set\n",
    "    val_years = validation_years[start_year_validation:end_year_validation]\n",
    "    train_set = full_window[~full_window['DATE'].str.contains('|'.join(val_years))]\n",
    "    X_train = train_set.iloc[:, 4:]\n",
    "    y_train = train_set.iloc[:, [1, 2]]\n",
    "    \n",
    "    # Validation set\n",
    "    val_set = full_window[full_window['DATE'].str.contains('|'.join(val_years))]\n",
    "    X_val = val_set.iloc[:, 4:]\n",
    "    y_val = val_set.iloc[:, [1, 2]]\n",
    "\n",
    "    start_year_validation += 1\n",
    "    end_year_validation += 1\n",
    "\n",
    "    results_one_window = optimize_hyperparameters(X_train, y_train, X_val, y_val)\n",
    "    \n",
    "    #Allocate results to dataframe\n",
    "    hp_results.at[window, \"Window\"] = window\n",
    "    hp_results.at[window, \"N_hidden_layers\"] = results_one_window['N_hidden_layers']\n",
    "    hp_results.at[window, \"N_neurons_layer_1\"] = results_one_window['N_neurons_layer_1'] \n",
    "    hp_results.at[window, \"N_neurons_layer_2\"] = results_one_window['N_neurons_layer_2'] \n",
    "    if results_one_window['N_hidden_layers'] == 3:\n",
    "        hp_results.at[window, \"N_neurons_layer_3\"] = results_one_window['N_neurons_layer_3'] \n",
    "    else: \n",
    "        hp_results.at[window, \"N_neurons_layer_3\"] = None\n",
    "    hp_results.at[window, \"Batch_normalization\"] = results_one_window['Batch_normalization'] \n",
    "    hp_results.at[window, \"Dropout_rate\"] = results_one_window['Dropout_rate'] \n",
    "    hp_results.at[window, \"Learning_rate\"] = results_one_window['Learning_rate']\n",
    "    print(hp_results)\n",
    "    \n",
    "hp_results.to_csv(\"MLP HPS.csv\")\n",
    "print(hp_results)"
   ]
  },
  {
   "cell_type": "markdown",
   "id": "d4fc1287-0fbd-463e-8382-f45c010346f0",
   "metadata": {},
   "source": [
    "# MLP: get results on test set for one window"
   ]
  },
  {
   "cell_type": "code",
   "execution_count": 4,
   "id": "674d6b1d-b0d3-46d7-a879-266f791c2e9c",
   "metadata": {},
   "outputs": [],
   "source": [
    "def test_set(X_train, y_train, X_test, y_test, n_layers, n_neurons_L1, n_neurons_L2, n_neurons_L3, batch_normalization, dropout_rate, learning_rate):\n",
    "    \n",
    "    # Set the seed for reproducibility\n",
    "    seed_value = 42\n",
    "    np.random.seed(seed_value)\n",
    "    tf.random.set_seed(seed_value)\n",
    "    \n",
    "    model = Sequential()\n",
    "\n",
    "    # Input layer and first hidden layer\n",
    "    model.add(Dense(units=n_neurons_L1, input_dim=X_train.shape[1], activation='relu'))\n",
    "    model.add(Dropout(dropout_rate))    \n",
    "    if batch_normalization == True:\n",
    "        model.add(BatchNormalization())\n",
    "            \n",
    "    if n_layers == 2:\n",
    "        # Second hidden layer\n",
    "        model.add(Dense(units=n_neurons_L2, activation='relu'))\n",
    "        model.add(Dropout(dropout_rate))   \n",
    "        if batch_normalization == True:\n",
    "            model.add(BatchNormalization())\n",
    "                  \n",
    "        # Possible third hidden layer\n",
    "        if n_layers == 3:\n",
    "            model.add(Dense(units=n_neurons_L3, activation='relu'))\n",
    "            model.add(Dropout(dropout_rate))    \n",
    "            if batch_normalization == True:\n",
    "                model.add(BatchNormalization())\n",
    "        \n",
    "    # Output: weight_stock_index & weight_bond_index\n",
    "    model.add(Dense(units=2, activation='softmax'))\n",
    "\n",
    "    optimizer = keras.optimizers.Adam(learning_rate=learning_rate)\n",
    "    model.compile(optimizer=optimizer, loss='mae', metrics=['mae'])\n",
    "    model.fit(X_train, y_train, epochs=10, batch_size=32)\n",
    "\n",
    "    # Evaluate the model on the test data\n",
    "    y_pred = model.predict(X_test)\n",
    "    loss, mae = model.evaluate(X_test, y_test)\n",
    "\n",
    "    # R-squared\n",
    "    r_squared = r2_score(y_test, y_pred)\n",
    "    return mae, r_squared, y_test, y_pred"
   ]
  },
  {
   "cell_type": "markdown",
   "id": "86f5570a-c7c6-4655-8537-aa4f67b1e46a",
   "metadata": {},
   "source": [
    "# MLP: call function for each window to extract all test results"
   ]
  },
  {
   "cell_type": "code",
   "execution_count": 8,
   "id": "8b8c6f47-4a8f-4ab1-bbb9-70862a58cf0b",
   "metadata": {
    "jp-MarkdownHeadingCollapsed": true,
    "tags": []
   },
   "outputs": [
    {
     "name": "stdout",
     "output_type": "stream",
     "text": [
      "Epoch 1/10\n",
      "10/10 [==============================] - 1s 2ms/step - loss: 0.4083 - mae: 0.4083\n",
      "Epoch 2/10\n",
      "10/10 [==============================] - 0s 1ms/step - loss: 0.4067 - mae: 0.4067\n",
      "Epoch 3/10\n",
      "10/10 [==============================] - 0s 1ms/step - loss: 0.4055 - mae: 0.4055\n",
      "Epoch 4/10\n",
      "10/10 [==============================] - 0s 993us/step - loss: 0.4041 - mae: 0.4041\n",
      "Epoch 5/10\n",
      "10/10 [==============================] - 0s 1ms/step - loss: 0.4028 - mae: 0.4028\n",
      "Epoch 6/10\n",
      "10/10 [==============================] - 0s 10ms/step - loss: 0.4016 - mae: 0.4016\n",
      "Epoch 7/10\n",
      "10/10 [==============================] - 0s 1ms/step - loss: 0.4003 - mae: 0.4003\n",
      "Epoch 8/10\n",
      "10/10 [==============================] - 0s 10ms/step - loss: 0.3990 - mae: 0.3990\n",
      "Epoch 9/10\n",
      "10/10 [==============================] - 0s 1ms/step - loss: 0.3977 - mae: 0.3977\n",
      "Epoch 10/10\n",
      "10/10 [==============================] - 0s 2ms/step - loss: 0.3965 - mae: 0.3965\n",
      "1/1 [==============================] - 0s 174ms/step - loss: 0.3452 - mae: 0.3452\n"
     ]
    },
    {
     "data": {
      "image/png": "[encoded data removed]",
      "text/plain": [
       "<Figure size 576x432 with 2 Axes>"
      ]
     },
     "metadata": {
      "needs_background": "light"
     },
     "output_type": "display_data"
    },
    {
     "name": "stdout",
     "output_type": "stream",
     "text": [
      "Epoch 1/10\n",
      "10/10 [==============================] - 1s 7ms/step - loss: 0.4072 - mae: 0.4072\n",
      "Epoch 2/10\n",
      "10/10 [==============================] - 0s 10ms/step - loss: 0.3323 - mae: 0.3323\n",
      "Epoch 3/10\n",
      "10/10 [==============================] - 0s 1ms/step - loss: 0.2929 - mae: 0.2929\n",
      "Epoch 4/10\n",
      "10/10 [==============================] - 0s 1ms/step - loss: 0.2634 - mae: 0.2634\n",
      "Epoch 5/10\n",
      "10/10 [==============================] - 0s 10ms/step - loss: 0.2539 - mae: 0.2539\n",
      "Epoch 6/10\n",
      "10/10 [==============================] - 0s 2ms/step - loss: 0.2395 - mae: 0.2395\n",
      "Epoch 7/10\n",
      "10/10 [==============================] - 0s 9ms/step - loss: 0.2170 - mae: 0.2170\n",
      "Epoch 8/10\n",
      "10/10 [==============================] - 0s 10ms/step - loss: 0.1975 - mae: 0.1975\n",
      "Epoch 9/10\n",
      "10/10 [==============================] - 0s 1ms/step - loss: 0.2047 - mae: 0.2047\n",
      "Epoch 10/10\n",
      "10/10 [==============================] - 0s 2ms/step - loss: 0.1843 - mae: 0.1843\n",
      "1/1 [==============================] - 0s 188ms/step - loss: 0.2938 - mae: 0.2938\n"
     ]
    },
    {
     "data": {
      "image/png": "[encoded data removed]",
      "text/plain": [
       "<Figure size 576x432 with 2 Axes>"
      ]
     },
     "metadata": {
      "needs_background": "light"
     },
     "output_type": "display_data"
    },
    {
     "name": "stdout",
     "output_type": "stream",
     "text": [
      "Epoch 1/10\n",
      "10/10 [==============================] - 1s 1ms/step - loss: 0.3915 - mae: 0.3915\n",
      "Epoch 2/10\n",
      "10/10 [==============================] - 0s 1ms/step - loss: 0.3154 - mae: 0.3154\n",
      "Epoch 3/10\n",
      "10/10 [==============================] - 0s 1ms/step - loss: 0.2810 - mae: 0.2810\n",
      "Epoch 4/10\n",
      "10/10 [==============================] - 0s 9ms/step - loss: 0.2451 - mae: 0.2451\n",
      "Epoch 5/10\n",
      "10/10 [==============================] - 0s 1ms/step - loss: 0.2260 - mae: 0.2260\n",
      "Epoch 6/10\n",
      "10/10 [==============================] - 0s 1ms/step - loss: 0.2158 - mae: 0.2158\n",
      "Epoch 7/10\n",
      "10/10 [==============================] - 0s 10ms/step - loss: 0.2059 - mae: 0.2059\n",
      "Epoch 8/10\n",
      "10/10 [==============================] - 0s 1ms/step - loss: 0.1750 - mae: 0.1750\n",
      "Epoch 9/10\n",
      "10/10 [==============================] - 0s 9ms/step - loss: 0.1503 - mae: 0.1503\n",
      "Epoch 10/10\n",
      "10/10 [==============================] - 0s 1ms/step - loss: 0.1228 - mae: 0.1228\n",
      "1/1 [==============================] - 0s 115ms/step - loss: 0.3658 - mae: 0.3658\n"
     ]
    },
    {
     "data": {
      "image/png": "[encoded data removed]",
      "text/plain": [
       "<Figure size 576x432 with 2 Axes>"
      ]
     },
     "metadata": {
      "needs_background": "light"
     },
     "output_type": "display_data"
    },
    {
     "name": "stdout",
     "output_type": "stream",
     "text": [
      "Epoch 1/10\n",
      "10/10 [==============================] - 1s 2ms/step - loss: 0.4085 - mae: 0.4085\n",
      "Epoch 2/10\n",
      "10/10 [==============================] - 0s 2ms/step - loss: 0.3663 - mae: 0.3663\n",
      "Epoch 3/10\n",
      "10/10 [==============================] - 0s 10ms/step - loss: 0.3351 - mae: 0.3351\n",
      "Epoch 4/10\n",
      "10/10 [==============================] - 0s 11ms/step - loss: 0.3285 - mae: 0.3285\n",
      "Epoch 5/10\n",
      "10/10 [==============================] - 0s 11ms/step - loss: 0.3122 - mae: 0.3122\n",
      "Epoch 6/10\n",
      "10/10 [==============================] - 0s 10ms/step - loss: 0.3312 - mae: 0.3312\n",
      "Epoch 7/10\n",
      "10/10 [==============================] - 0s 10ms/step - loss: 0.3119 - mae: 0.3119\n",
      "Epoch 8/10\n",
      "10/10 [==============================] - 0s 2ms/step - loss: 0.2920 - mae: 0.2920\n",
      "Epoch 9/10\n",
      "10/10 [==============================] - 0s 2ms/step - loss: 0.3054 - mae: 0.3054\n",
      "Epoch 10/10\n",
      "10/10 [==============================] - 0s 10ms/step - loss: 0.2935 - mae: 0.2935\n",
      "1/1 [==============================] - 0s 198ms/step - loss: 0.3838 - mae: 0.3838\n"
     ]
    },
    {
     "data": {
      "image/png": "[encoded data removed]",
      "text/plain": [
       "<Figure size 576x432 with 2 Axes>"
      ]
     },
     "metadata": {
      "needs_background": "light"
     },
     "output_type": "display_data"
    },
    {
     "name": "stdout",
     "output_type": "stream",
     "text": [
      "Epoch 1/10\n",
      "10/10 [==============================] - 1s 2ms/step - loss: 0.4513 - mae: 0.4513\n",
      "Epoch 2/10\n",
      "10/10 [==============================] - 0s 11ms/step - loss: 0.3941 - mae: 0.3941\n",
      "Epoch 3/10\n",
      "10/10 [==============================] - 0s 10ms/step - loss: 0.3381 - mae: 0.3381\n",
      "Epoch 4/10\n",
      "10/10 [==============================] - 0s 10ms/step - loss: 0.3425 - mae: 0.3425\n",
      "Epoch 5/10\n",
      "10/10 [==============================] - 0s 11ms/step - loss: 0.3083 - mae: 0.3083\n",
      "Epoch 6/10\n",
      "10/10 [==============================] - 0s 11ms/step - loss: 0.3029 - mae: 0.3029\n",
      "Epoch 7/10\n",
      "10/10 [==============================] - 0s 11ms/step - loss: 0.2992 - mae: 0.2992\n",
      "Epoch 8/10\n",
      "10/10 [==============================] - 0s 10ms/step - loss: 0.2704 - mae: 0.2704\n",
      "Epoch 9/10\n",
      "10/10 [==============================] - 0s 10ms/step - loss: 0.2504 - mae: 0.2504\n",
      "Epoch 10/10\n",
      "10/10 [==============================] - 0s 12ms/step - loss: 0.2519 - mae: 0.2519\n",
      "1/1 [==============================] - 0s 191ms/step - loss: 0.6550 - mae: 0.6550\n"
     ]
    },
    {
     "data": {
      "image/png": "[encoded data removed]",
      "text/plain": [
       "<Figure size 576x432 with 2 Axes>"
      ]
     },
     "metadata": {
      "needs_background": "light"
     },
     "output_type": "display_data"
    },
    {
     "name": "stdout",
     "output_type": "stream",
     "text": [
      "Epoch 1/10\n",
      "10/10 [==============================] - 1s 8ms/step - loss: 0.4172 - mae: 0.4172\n",
      "Epoch 2/10\n",
      "10/10 [==============================] - 0s 11ms/step - loss: 0.4143 - mae: 0.4143\n",
      "Epoch 3/10\n",
      "10/10 [==============================] - 0s 10ms/step - loss: 0.3883 - mae: 0.3883\n",
      "Epoch 4/10\n",
      "10/10 [==============================] - 0s 10ms/step - loss: 0.3929 - mae: 0.3929\n",
      "Epoch 5/10\n",
      "10/10 [==============================] - 0s 10ms/step - loss: 0.3998 - mae: 0.3998\n",
      "Epoch 6/10\n",
      "10/10 [==============================] - 0s 2ms/step - loss: 0.4135 - mae: 0.4135\n",
      "Epoch 7/10\n",
      "10/10 [==============================] - 0s 2ms/step - loss: 0.3905 - mae: 0.3905\n",
      "Epoch 8/10\n",
      "10/10 [==============================] - 0s 11ms/step - loss: 0.3793 - mae: 0.3793\n",
      "Epoch 9/10\n",
      "10/10 [==============================] - 0s 10ms/step - loss: 0.3941 - mae: 0.3941\n",
      "Epoch 10/10\n",
      "10/10 [==============================] - 0s 10ms/step - loss: 0.4054 - mae: 0.4054\n",
      "1/1 [==============================] - 0s 143ms/step - loss: 0.2948 - mae: 0.2948\n"
     ]
    },
    {
     "data": {
      "image/png": "[encoded data removed]",
      "text/plain": [
       "<Figure size 576x432 with 2 Axes>"
      ]
     },
     "metadata": {
      "needs_background": "light"
     },
     "output_type": "display_data"
    },
    {
     "name": "stdout",
     "output_type": "stream",
     "text": [
      "  Window    MAE R_squared Accuracy F1 Score\n",
      "0      0  0.345    -0.151    0.583    0.574\n",
      "1      1  0.294    -0.995    0.667    0.667\n",
      "2      2  0.366    -0.194     0.75    0.767\n",
      "3      3  0.384    -0.979    0.417    0.413\n",
      "4      4  0.655    -3.217     0.25    0.276\n",
      "5      5  0.295     0.035    0.667    0.667\n"
     ]
    }
   ],
   "source": [
    "# Import tuned hyper-paramters\n",
    "hp_results = pd.read_csv(\"Final results/MLP HPS.csv\")\n",
    "\n",
    "# Years that will be removed from the data set (depending on the window)\n",
    "bottom_years = [\"1990\", \"1991\", \"1992\", \"1993\",\"1994\"]\n",
    "test_years = [\"2016\", \"2017\", \"2018\", \"2019\", \"2020\", \"2021\"]\n",
    "\n",
    "# Define table to store results\n",
    "result_mlp = pd.DataFrame(\n",
    "{\"Window\":              [None, None, None, None, None, None],\n",
    " \"MAE\":                 [None, None, None, None, None, None],\n",
    " \"R_squared\":           [None, None, None, None, None, None],\n",
    " \"Accuracy\":            [None, None, None, None, None, None],\n",
    " \"F1 Score\":            [None, None, None, None, None, None]\n",
    "})\n",
    "\n",
    "# Define np array to store actual and predicted weights\n",
    "weights_results = pd.DataFrame([[None] * 5] * 72, columns=['Date', 'Actual Stock Weight', 'Actual Bond Weight', 'Predicted Stock Weight', 'Predicted Bond Weight'])\n",
    "\n",
    "# Loop over each \n",
    "for window in range(6):\n",
    "    # Retrieve hyper-parameters for window\n",
    "    Window = hp_results.loc[window, ['Window']][0]\n",
    "    N_hidden_layers = hp_results.loc[window, ['N_hidden_layers']][0]\n",
    "    N_neurons_layer_1 = hp_results.loc[window, ['N_neurons_layer_1']][0]\n",
    "    N_neurons_layer_2 = hp_results.loc[window, ['N_neurons_layer_2']][0]\n",
    "    N_neurons_layer_3 = hp_results.loc[window, ['N_neurons_layer_3']][0]\n",
    "    Batch_normalization = hp_results.loc[window, ['Batch_normalization']][0]\n",
    "    Dropout_rate = hp_results.loc[window, ['Dropout_rate']][0]\n",
    "    Learning_rate = hp_results.loc[window, ['Learning_rate']][0]\n",
    "\n",
    "    # Exluce the bottom years in training set (depending on window)\n",
    "    exclude_bottom_years = bottom_years[0:window]\n",
    "    \n",
    "    # Exclude test years in training set (depending on window)\n",
    "    exclude_test_years = test_years[window:]\n",
    "    \n",
    "    # Merge years to exclude for training set (depending on window)\n",
    "    train_exclude= exclude_bottom_years + exclude_test_years\n",
    "\n",
    "    # Retrieve test year (depending on window)\n",
    "    test_year = test_years[window]\n",
    "   \n",
    "    # Get filtered data set \n",
    "    whole_train = df[~df['DATE'].str.contains('|'.join(train_exclude))]\n",
    "    whole_test = df[df['DATE'].str.contains(test_year)]\n",
    "\n",
    "    # Select right columns\n",
    "    X_train = whole_train.iloc[:, 4:]\n",
    "    y_train = whole_train.iloc[:, [1, 2]]\n",
    "    X_test = whole_test.iloc[:, 4:]\n",
    "    y_test = whole_test.iloc[:, [1, 2]]\n",
    "\n",
    "    # Extract results for each window\n",
    "    result_window = test_set(X_train=X_train, y_train=y_train, X_test=X_test, y_test=y_test, n_layers=N_hidden_layers, n_neurons_L1=N_neurons_layer_1,n_neurons_L2=N_neurons_layer_2, n_neurons_L3=N_neurons_layer_3, batch_normalization=Batch_normalization, dropout_rate=Dropout_rate, learning_rate=Learning_rate)\n",
    "    \n",
    "    # Assign results to table\n",
    "    result_mlp.at[window, \"Window\"] = window\n",
    "    result_mlp.at[window, \"MAE\"] = np.round(result_window[0], 3)\n",
    "    result_mlp.at[window, \"R_squared\"] = np.round(result_window[1], 3)\n",
    "\n",
    "    # Assign results to table\n",
    "    \n",
    "    dates = list(whole_test.loc[:, \"DATE\"])\n",
    "    weights_results.loc[window*12:(window*12+11), \"Date\"] = dates\n",
    "    stock_optimal = list(whole_test.loc[:, \"Stock index\"])\n",
    "    weights_results.loc[window*12:(window*12+11), \"Actual Stock Weight\"] = stock_optimal\n",
    "    bond_optimal = list(whole_test.loc[:, \"Bond Index\"])\n",
    "    weights_results.loc[window*12:(window*12+11), \"Actual Bond Weight\"] = bond_optimal\n",
    "    pred_stock = list(result_window[3][:, 0])\n",
    "    weights_results.loc[window*12:(window*12+11), \"Predicted Stock Weight\"] = pred_stock\n",
    "    pred_bond = list(result_window[3][:, 1])\n",
    "    weights_results.loc[window*12:(window*12+11), \"Predicted Bond Weight\"] = pred_bond\n",
    "    \n",
    "    # Rounc for classification results\n",
    "    round_actual = np.round(result_window[2]).values #convert to np array\n",
    "    round_pred = np.round(result_window[3])\n",
    "    row_matches = np.all(round_pred == round_actual, axis=1)\n",
    "\n",
    "    # Get accuracy and F1 score\n",
    "    y_pred = (round_pred > 0.5)\n",
    "    acc = accuracy_score(round_actual.argmax(axis=1), y_pred.argmax(axis=1))\n",
    "    result_mlp.at[window, \"Accuracy\"] = round(acc, 3)\n",
    "    f1 = f1_score(round_actual.argmax(axis=1), y_pred.argmax(axis=1), average='weighted')\n",
    "    result_mlp.at[window, \"F1 Score\"] = round(f1, 3)\n",
    "    \t\n",
    "    # Plot confusion matrix\n",
    "    cm = confusion_matrix(round_actual.argmax(axis=1), y_pred.argmax(axis=1))\n",
    "    plt.figure(figsize=(8, 6))\n",
    "    sns.heatmap(cm, annot=True, cmap='Blues', fmt='g')\n",
    "    plt.xlabel('Predicted labels')\n",
    "    plt.ylabel('True labels')\n",
    "    plt.title('Confusion Matrix')\n",
    "    plt.show()\n",
    "   \n",
    "result_mlp.to_csv(\"Final results/MLP Final Results.csv\")\n",
    "weights_results.to_csv(\"Final results/MLP Weight predictions.csv\")\n",
    "print(result_mlp)"
   ]
  }
 ],
 "metadata": {
  "kernelspec": {
   "display_name": "Python 3 (ipykernel)",
   "language": "python",
   "name": "python3"
  },
  "language_info": {
   "codemirror_mode": {
    "name": "ipython",
    "version": 3
   },
   "file_extension": ".py",
   "mimetype": "text/x-python",
   "name": "python",
   "nbconvert_exporter": "python",
   "pygments_lexer": "ipython3",
   "version": "3.9.7"
  }
 },
 "nbformat": 4,
 "nbformat_minor": 5
}
