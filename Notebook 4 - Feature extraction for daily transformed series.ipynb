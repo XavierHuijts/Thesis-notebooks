{
 "cells": [
  {
   "cell_type": "markdown",
   "id": "d2347338-0191-45c6-829d-3a254bbd5346",
   "metadata": {},
   "source": [
    "# Import packages "
   ]
  },
  {
   "cell_type": "code",
   "execution_count": 1,
   "id": "352e9834-189c-40e8-a791-e1f1e231b0b5",
   "metadata": {},
   "outputs": [],
   "source": [
    "import numpy as np\n",
    "import pandas as pd\n",
    "import statistics  "
   ]
  },
  {
   "cell_type": "markdown",
   "id": "4252f8fb-18a4-4902-8515-f193df7bc12f",
   "metadata": {},
   "source": [
    "# Create list of monthly dates"
   ]
  },
  {
   "cell_type": "code",
   "execution_count": 2,
   "id": "45fc9c53-507f-414d-85f2-6d7136141fe6",
   "metadata": {},
   "outputs": [],
   "source": [
    "def list_monthly_dates(first_year, last_year):\n",
    "    # Gather each yyyy-mm\n",
    "    all_dates = []\n",
    "    # Loop over each yyyy-mm\n",
    "    for year in range(first_year, last_year+1):\n",
    "        for month in range(1, 12+1):\n",
    "            if len(str(month)) == 2:\n",
    "                date = f\"{month}/{year}\"\n",
    "                all_dates.append(date)\n",
    "            else:\n",
    "                date = f\"0{month}/{year}\"\n",
    "                all_dates.append(date)\n",
    "    return all_dates"
   ]
  },
  {
   "cell_type": "markdown",
   "id": "7d794d96-14a0-4cb6-8f8f-782fa3ce465d",
   "metadata": {},
   "source": [
    "# Extract Monthly Features From Daily Series"
   ]
  },
  {
   "cell_type": "code",
   "execution_count": 3,
   "id": "d0ef55c6-57ad-4d0e-9c5e-c698d0f50156",
   "metadata": {},
   "outputs": [],
   "source": [
    "def extract_features(first_year, last_year, file_names):\n",
    "    # Import list with all months (mm-yyyy) \n",
    "    dates = list_monthly_dates(first_year, last_year)\n",
    "    n_months = len(dates)\n",
    "    \n",
    "    n_indicators = len(file_names)\n",
    "    n_stats = 6 # (1) mean, (2) st. dev, (3) kurtosis, (4) skew, (5) 25th perentile, (6) 75th percentile\n",
    "    \n",
    "    all_results_array = np.zeros((n_months, n_indicators * n_stats)) \n",
    "    \n",
    "    column = 0\n",
    "    for file in file_names:\n",
    "        df = pd.read_csv(\"Generated series/Stationary only/Daily/\" + file + \".csv\")    \n",
    "        np.zeros((n_months, n_stats))\n",
    "        row = 0\n",
    "        print(file)\n",
    "        for mm_yyyy in dates:\n",
    "            daily_data_df = df[df['DATE'].str.contains(mm_yyyy)]\n",
    "            daily_data_list = daily_data_df[file].tolist()\n",
    "\n",
    "            # Add for stock\n",
    "            all_results_array[row, column] = statistics.mean(daily_data_list)\n",
    "            all_results_array[row, column+1] = statistics.stdev(daily_data_list)\n",
    "            all_results_array[row, column+2] = kurtosis(daily_data_list)\n",
    "            all_results_array[row, column+3] = skew(daily_data_list)\n",
    "            daily_data_list.sort() \n",
    "            all_results_array[row, column+4] = np.percentile(daily_data_list, 25)\n",
    "            all_results_array[row, column+5] = np.percentile(daily_data_list, 75)\n",
    "            row += 1\n",
    "        column += 6\n",
    "    # Create column names                    \n",
    "    column_names = []\n",
    "    for file in file_names:\n",
    "        column_names.append(\"Mean (\" + file + \")\")\n",
    "        column_names.append(\"Standard dev. (\" + file + \")\")\n",
    "        column_names.append(\"Kurtosis (\" + file + \")\")\n",
    "        column_names.append(\"Skew (\" + file + \")\")\n",
    "        column_names.append(\"25th percentile (\" + file + \")\")\n",
    "        column_names.append(\"75th percentile (\" + file + \")\")\n",
    "\n",
    "    all_results = pd.DataFrame(all_results_array, columns=column_names, index=dates)\n",
    "    all_results.to_csv(\"All features/Monthly Extracted Features.csv\", index=True)\n",
    "    return all_results"
   ]
  },
  {
   "cell_type": "markdown",
   "id": "73630b26-36fb-483b-974c-81e1432c3444",
   "metadata": {},
   "source": [
    "# Call function"
   ]
  },
  {
   "cell_type": "code",
   "execution_count": null,
   "id": "f38ac069-3b00-4815-8936-db7bf9bb8e13",
   "metadata": {},
   "outputs": [],
   "source": [
    "file_names = [\"S&P500\", \"BAMLCC0A1AAATRIV\", \"USD-GBP\", \"3M T-Bill\", \"DGS2\", \"DGS5\", \"DGS10\", \"TEDRATE\", \"T10Y3M\", \"Crude Oil\"]\n",
    "extract_features(first_year=1990, last_year=2021, file_names=file_names)"
   ]
  }
 ],
 "metadata": {
  "kernelspec": {
   "display_name": "Python 3 (ipykernel)",
   "language": "python",
   "name": "python3"
  },
  "language_info": {
   "codemirror_mode": {
    "name": "ipython",
    "version": 3
   },
   "file_extension": ".py",
   "mimetype": "text/x-python",
   "name": "python",
   "nbconvert_exporter": "python",
   "pygments_lexer": "ipython3",
   "version": "3.9.7"
  }
 },
 "nbformat": 4,
 "nbformat_minor": 5
}
